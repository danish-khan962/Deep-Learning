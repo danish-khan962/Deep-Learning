{
  "nbformat": 4,
  "nbformat_minor": 0,
  "metadata": {
    "colab": {
      "provenance": [],
      "authorship_tag": "ABX9TyNy+TF2ywc+fdvVUXkNgC8q",
      "include_colab_link": true
    },
    "kernelspec": {
      "name": "python3",
      "display_name": "Python 3"
    },
    "language_info": {
      "name": "python"
    }
  },
  "cells": [
    {
      "cell_type": "markdown",
      "metadata": {
        "id": "view-in-github",
        "colab_type": "text"
      },
      "source": [
        "<a href=\"https://colab.research.google.com/github/danish-khan962/Deep-Learning/blob/main/01_tensorflow_basics.ipynb\" target=\"_parent\"><img src=\"https://colab.research.google.com/assets/colab-badge.svg\" alt=\"Open In Colab\"/></a>"
      ]
    },
    {
      "cell_type": "markdown",
      "source": [
        "# This notebook covers some of the most fundamental concepts of tensors using TensorFlow\n",
        "## This is the starting of Deep Learning journey....\n",
        "\n",
        "Most specifically, we're going to cover:\n",
        "* Introduction to tensors\n",
        "* Getting Information from tensors\n",
        "* Manipulating tensors\n",
        "* Tensors && Numpy\n",
        "* Using @tf.function(a way to speed up regular Python functions)\n",
        "* Using GPUs with TensorFlow (or TPUs)"
      ],
      "metadata": {
        "id": "T3TGVhelZe5P"
      }
    },
    {
      "cell_type": "markdown",
      "source": [
        "# 1. Introduction to Tensors"
      ],
      "metadata": {
        "id": "SriSEJttbheb"
      }
    },
    {
      "cell_type": "code",
      "source": [
        "#Import TensorFlow\n",
        "import tensorflow as tf\n",
        "print(tf.__version__)"
      ],
      "metadata": {
        "colab": {
          "base_uri": "https://localhost:8080/"
        },
        "id": "oHetgMO5bnmF",
        "outputId": "0f2c26f4-057f-438f-e27e-e5fee28dc289"
      },
      "execution_count": 1,
      "outputs": [
        {
          "output_type": "stream",
          "name": "stdout",
          "text": [
            "2.18.0\n"
          ]
        }
      ]
    },
    {
      "cell_type": "code",
      "source": [
        "#Creating tensors with tf.constant()\n",
        "scalar = tf.constant(9)\n",
        "scalar"
      ],
      "metadata": {
        "colab": {
          "base_uri": "https://localhost:8080/"
        },
        "id": "raKDgOhGb2HN",
        "outputId": "45052b22-72e8-435c-f36e-c1201d236d2d"
      },
      "execution_count": 2,
      "outputs": [
        {
          "output_type": "execute_result",
          "data": {
            "text/plain": [
              "<tf.Tensor: shape=(), dtype=int32, numpy=9>"
            ]
          },
          "metadata": {},
          "execution_count": 2
        }
      ]
    },
    {
      "cell_type": "code",
      "source": [
        "#Checking the number of dimensions of a tensor\n",
        "scalar.ndim"
      ],
      "metadata": {
        "colab": {
          "base_uri": "https://localhost:8080/"
        },
        "id": "cEwk_bZrcJGp",
        "outputId": "266d54ac-be31-4441-c626-cf4b7ce21a9a"
      },
      "execution_count": 3,
      "outputs": [
        {
          "output_type": "execute_result",
          "data": {
            "text/plain": [
              "0"
            ]
          },
          "metadata": {},
          "execution_count": 3
        }
      ]
    },
    {
      "cell_type": "code",
      "source": [
        "# Creating a vector\n",
        "vector = tf.constant([10,15])\n",
        "vector"
      ],
      "metadata": {
        "colab": {
          "base_uri": "https://localhost:8080/"
        },
        "id": "Quv5Ptq0ckXT",
        "outputId": "8566f8d9-7baf-4348-b045-253e02480aff"
      },
      "execution_count": 4,
      "outputs": [
        {
          "output_type": "execute_result",
          "data": {
            "text/plain": [
              "<tf.Tensor: shape=(2,), dtype=int32, numpy=array([10, 15], dtype=int32)>"
            ]
          },
          "metadata": {},
          "execution_count": 4
        }
      ]
    },
    {
      "cell_type": "code",
      "source": [
        "vector.ndim"
      ],
      "metadata": {
        "colab": {
          "base_uri": "https://localhost:8080/"
        },
        "id": "pEpZ26IecuGD",
        "outputId": "2e57a606-e6df-424f-ba39-dd78236b1e99"
      },
      "execution_count": 5,
      "outputs": [
        {
          "output_type": "execute_result",
          "data": {
            "text/plain": [
              "1"
            ]
          },
          "metadata": {},
          "execution_count": 5
        }
      ]
    },
    {
      "cell_type": "code",
      "source": [
        "#Create a matrix (has more than 1 dimensions)\n",
        "matrix = tf.constant([[20,5],\n",
        "                      [3,7]])\n",
        "matrix"
      ],
      "metadata": {
        "colab": {
          "base_uri": "https://localhost:8080/"
        },
        "id": "xRXkvAFbc1Dt",
        "outputId": "bda96e7c-3d95-4e68-ae66-d52c329622a0"
      },
      "execution_count": 6,
      "outputs": [
        {
          "output_type": "execute_result",
          "data": {
            "text/plain": [
              "<tf.Tensor: shape=(2, 2), dtype=int32, numpy=\n",
              "array([[20,  5],\n",
              "       [ 3,  7]], dtype=int32)>"
            ]
          },
          "metadata": {},
          "execution_count": 6
        }
      ]
    },
    {
      "cell_type": "code",
      "source": [
        "matrix.ndim"
      ],
      "metadata": {
        "colab": {
          "base_uri": "https://localhost:8080/"
        },
        "id": "UT3LRURTdHqs",
        "outputId": "ef2d38f8-f5d0-4af5-8234-d5082221c1f1"
      },
      "execution_count": 7,
      "outputs": [
        {
          "output_type": "execute_result",
          "data": {
            "text/plain": [
              "2"
            ]
          },
          "metadata": {},
          "execution_count": 7
        }
      ]
    },
    {
      "cell_type": "code",
      "source": [
        "#Create another matrix\n",
        "another_matrix = tf.constant([[5., 7.],\n",
        "                              [6., 8.],\n",
        "                              [7., 4.]], dtype = tf.float16)\n",
        "another_matrix"
      ],
      "metadata": {
        "colab": {
          "base_uri": "https://localhost:8080/"
        },
        "id": "h4ic9bIXdOzx",
        "outputId": "bd996229-2356-49e7-e8a7-4bbaceed10ef"
      },
      "execution_count": 8,
      "outputs": [
        {
          "output_type": "execute_result",
          "data": {
            "text/plain": [
              "<tf.Tensor: shape=(3, 2), dtype=float16, numpy=\n",
              "array([[5., 7.],\n",
              "       [6., 8.],\n",
              "       [7., 4.]], dtype=float16)>"
            ]
          },
          "metadata": {},
          "execution_count": 8
        }
      ]
    },
    {
      "cell_type": "code",
      "source": [
        "#Number of dimensions of another_matrix\n",
        "another_matrix.ndim"
      ],
      "metadata": {
        "colab": {
          "base_uri": "https://localhost:8080/"
        },
        "id": "EL1cOc-Ud1r7",
        "outputId": "dcdbb709-b16e-4b6b-920f-b0a80ee62554"
      },
      "execution_count": 9,
      "outputs": [
        {
          "output_type": "execute_result",
          "data": {
            "text/plain": [
              "2"
            ]
          },
          "metadata": {},
          "execution_count": 9
        }
      ]
    },
    {
      "cell_type": "code",
      "source": [
        "# Let's create a tensor\n",
        "tensor = tf.constant([[[1, 2, 3],\n",
        "                       [4, 5, 6]],\n",
        "                      [[7, 8, 9],\n",
        "                       [10, 11, 12]],\n",
        "                      [[13, 14, 15],\n",
        "                       [16, 17, 18]]])\n",
        "tensor"
      ],
      "metadata": {
        "colab": {
          "base_uri": "https://localhost:8080/"
        },
        "id": "lLfT-3FgeBqt",
        "outputId": "5deb1398-c736-4ba4-a018-a2f894fe6df1"
      },
      "execution_count": 10,
      "outputs": [
        {
          "output_type": "execute_result",
          "data": {
            "text/plain": [
              "<tf.Tensor: shape=(3, 2, 3), dtype=int32, numpy=\n",
              "array([[[ 1,  2,  3],\n",
              "        [ 4,  5,  6]],\n",
              "\n",
              "       [[ 7,  8,  9],\n",
              "        [10, 11, 12]],\n",
              "\n",
              "       [[13, 14, 15],\n",
              "        [16, 17, 18]]], dtype=int32)>"
            ]
          },
          "metadata": {},
          "execution_count": 10
        }
      ]
    },
    {
      "cell_type": "code",
      "source": [
        "tensor.ndim"
      ],
      "metadata": {
        "colab": {
          "base_uri": "https://localhost:8080/"
        },
        "id": "xhkgrj5-ezs3",
        "outputId": "2f7a3d9b-7234-4cfd-8d55-f698f082366b"
      },
      "execution_count": 11,
      "outputs": [
        {
          "output_type": "execute_result",
          "data": {
            "text/plain": [
              "3"
            ]
          },
          "metadata": {},
          "execution_count": 11
        }
      ]
    },
    {
      "cell_type": "markdown",
      "source": [
        "# What we've created so far\n",
        "\n",
        "* `Scalar:` a single number\n",
        "* `Vector:` a number with direction(e.g., wind speed & direction)\n",
        "* `Matrix:` a 2-dimensional array of numbers\n",
        "* `Tensor:` an n-dimesnional array of numbers(where `n` can be any number, a 0-Dimensional tensor is a scalar, a 1-Dimensional tensor is a vector)"
      ],
      "metadata": {
        "id": "RrcM8BTAfu_4"
      }
    },
    {
      "cell_type": "markdown",
      "source": [
        "### Creating tensors with `tf.Variable`"
      ],
      "metadata": {
        "id": "r6pb9rzShAql"
      }
    },
    {
      "cell_type": "code",
      "source": [
        "tf.Variable"
      ],
      "metadata": {
        "colab": {
          "base_uri": "https://localhost:8080/",
          "height": 186
        },
        "id": "3VcL8GWi6WGN",
        "outputId": "26ee5761-953f-4d20-b06e-1af1e086590b"
      },
      "execution_count": 12,
      "outputs": [
        {
          "output_type": "execute_result",
          "data": {
            "text/plain": [
              "tensorflow.python.ops.variables.Variable"
            ],
            "text/html": [
              "<div style=\"max-width:800px; border: 1px solid var(--colab-border-color);\"><style>\n",
              "      pre.function-repr-contents {\n",
              "        overflow-x: auto;\n",
              "        padding: 8px 12px;\n",
              "        max-height: 500px;\n",
              "      }\n",
              "\n",
              "      pre.function-repr-contents.function-repr-contents-collapsed {\n",
              "        cursor: pointer;\n",
              "        max-height: 100px;\n",
              "      }\n",
              "    </style>\n",
              "    <pre style=\"white-space: initial; background:\n",
              "         var(--colab-secondary-surface-color); padding: 8px 12px;\n",
              "         border-bottom: 1px solid var(--colab-border-color);\"><b>tensorflow.python.ops.variables.Variable</b><br/>def error_handler(*args, **kwargs)</pre><pre class=\"function-repr-contents function-repr-contents-collapsed\" style=\"\"><a class=\"filepath\" style=\"display:none\" href=\"#\">/usr/local/lib/python3.11/dist-packages/tensorflow/python/ops/variables.py</a>See the [variable guide](https://tensorflow.org/guide/variable).\n",
              "\n",
              "A variable maintains shared, persistent state manipulated by a program.\n",
              "\n",
              "The `Variable()` constructor requires an initial value for the variable, which\n",
              "can be a `Tensor` of any type and shape. This initial value defines the type\n",
              "and shape of the variable. After construction, the type and shape of the\n",
              "variable are fixed. The value can be changed using one of the assign methods.\n",
              "\n",
              "&gt;&gt;&gt; v = tf.Variable(1.)\n",
              "&gt;&gt;&gt; v.assign(2.)\n",
              "&lt;tf.Variable ... shape=() dtype=float32, numpy=2.0&gt;\n",
              "&gt;&gt;&gt; v.assign_add(0.5)\n",
              "&lt;tf.Variable ... shape=() dtype=float32, numpy=2.5&gt;\n",
              "\n",
              "The `shape` argument to `Variable`&#x27;s constructor allows you to construct a\n",
              "variable with a less defined shape than its `initial_value`:\n",
              "\n",
              "&gt;&gt;&gt; v = tf.Variable(1., shape=tf.TensorShape(None))\n",
              "&gt;&gt;&gt; v.assign([[1.]])\n",
              "&lt;tf.Variable ... shape=&lt;unknown&gt; dtype=float32, numpy=array([[1.]], ...)&gt;\n",
              "\n",
              "Just like any `Tensor`, variables created with `Variable()` can be used as\n",
              "inputs to operations. Additionally, all the operators overloaded for the\n",
              "`Tensor` class are carried over to variables.\n",
              "\n",
              "&gt;&gt;&gt; w = tf.Variable([[1.], [2.]])\n",
              "&gt;&gt;&gt; x = tf.constant([[3., 4.]])\n",
              "&gt;&gt;&gt; tf.matmul(w, x)\n",
              "&lt;tf.Tensor:... shape=(2, 2), ... numpy=\n",
              "  array([[3., 4.],\n",
              "         [6., 8.]], dtype=float32)&gt;\n",
              "&gt;&gt;&gt; tf.sigmoid(w + x)\n",
              "&lt;tf.Tensor:... shape=(2, 2), ...&gt;\n",
              "\n",
              "When building a machine learning model it is often convenient to distinguish\n",
              "between variables holding trainable model parameters and other variables such\n",
              "as a `step` variable used to count training steps. To make this easier, the\n",
              "variable constructor supports a `trainable=&lt;bool&gt;`\n",
              "parameter. `tf.GradientTape` watches trainable variables by default:\n",
              "\n",
              "&gt;&gt;&gt; with tf.GradientTape(persistent=True) as tape:\n",
              "...   trainable = tf.Variable(1.)\n",
              "...   non_trainable = tf.Variable(2., trainable=False)\n",
              "...   x1 = trainable * 2.\n",
              "...   x2 = non_trainable * 3.\n",
              "&gt;&gt;&gt; tape.gradient(x1, trainable)\n",
              "&lt;tf.Tensor:... shape=(), dtype=float32, numpy=2.0&gt;\n",
              "&gt;&gt;&gt; assert tape.gradient(x2, non_trainable) is None  # Unwatched\n",
              "\n",
              "Variables are automatically tracked when assigned to attributes of types\n",
              "inheriting from `tf.Module`.\n",
              "\n",
              "&gt;&gt;&gt; m = tf.Module()\n",
              "&gt;&gt;&gt; m.v = tf.Variable([1.])\n",
              "&gt;&gt;&gt; m.trainable_variables\n",
              "(&lt;tf.Variable ... shape=(1,) ... numpy=array([1.], dtype=float32)&gt;,)\n",
              "\n",
              "This tracking then allows saving variable values to\n",
              "[training checkpoints](https://www.tensorflow.org/guide/checkpoint), or to\n",
              "[SavedModels](https://www.tensorflow.org/guide/saved_model) which include\n",
              "serialized TensorFlow graphs.\n",
              "\n",
              "Variables are often captured and manipulated by `tf.function`s. This works the\n",
              "same way the un-decorated function would have:\n",
              "\n",
              "&gt;&gt;&gt; v = tf.Variable(0.)\n",
              "&gt;&gt;&gt; read_and_decrement = tf.function(lambda: v.assign_sub(0.1))\n",
              "&gt;&gt;&gt; read_and_decrement()\n",
              "&lt;tf.Tensor: shape=(), dtype=float32, numpy=-0.1&gt;\n",
              "&gt;&gt;&gt; read_and_decrement()\n",
              "&lt;tf.Tensor: shape=(), dtype=float32, numpy=-0.2&gt;\n",
              "\n",
              "Variables created inside a `tf.function` must be owned outside the function\n",
              "and be created only once:\n",
              "\n",
              "&gt;&gt;&gt; class M(tf.Module):\n",
              "...   @tf.function\n",
              "...   def __call__(self, x):\n",
              "...     if not hasattr(self, &quot;v&quot;):  # Or set self.v to None in __init__\n",
              "...       self.v = tf.Variable(x)\n",
              "...     return self.v * x\n",
              "&gt;&gt;&gt; m = M()\n",
              "&gt;&gt;&gt; m(2.)\n",
              "&lt;tf.Tensor: shape=(), dtype=float32, numpy=4.0&gt;\n",
              "&gt;&gt;&gt; m(3.)\n",
              "&lt;tf.Tensor: shape=(), dtype=float32, numpy=6.0&gt;\n",
              "&gt;&gt;&gt; m.v\n",
              "&lt;tf.Variable ... shape=() dtype=float32, numpy=2.0&gt;\n",
              "\n",
              "See the `tf.function` documentation for details.</pre>\n",
              "      <script>\n",
              "      if (google.colab.kernel.accessAllowed && google.colab.files && google.colab.files.view) {\n",
              "        for (const element of document.querySelectorAll('.filepath')) {\n",
              "          element.style.display = 'block'\n",
              "          element.onclick = (event) => {\n",
              "            event.preventDefault();\n",
              "            event.stopPropagation();\n",
              "            google.colab.files.view(element.textContent, 204);\n",
              "          };\n",
              "        }\n",
              "      }\n",
              "      for (const element of document.querySelectorAll('.function-repr-contents')) {\n",
              "        element.onclick = (event) => {\n",
              "          event.preventDefault();\n",
              "          event.stopPropagation();\n",
              "          element.classList.toggle('function-repr-contents-collapsed');\n",
              "        };\n",
              "      }\n",
              "      </script>\n",
              "      </div>"
            ]
          },
          "metadata": {},
          "execution_count": 12
        }
      ]
    },
    {
      "cell_type": "code",
      "source": [
        "# Let's play with changable and unchangeable tensors\n",
        "changeable_tensors = tf.Variable([5,9])\n",
        "unchangeable_tensor = tf.constant([7,3])\n",
        "changeable_tensors , unchangeable_tensor"
      ],
      "metadata": {
        "colab": {
          "base_uri": "https://localhost:8080/"
        },
        "id": "p19Cud9x6YpE",
        "outputId": "54a344e9-85eb-42c5-dc2c-84de3d6a24a0"
      },
      "execution_count": 13,
      "outputs": [
        {
          "output_type": "execute_result",
          "data": {
            "text/plain": [
              "(<tf.Variable 'Variable:0' shape=(2,) dtype=int32, numpy=array([5, 9], dtype=int32)>,\n",
              " <tf.Tensor: shape=(2,), dtype=int32, numpy=array([7, 3], dtype=int32)>)"
            ]
          },
          "metadata": {},
          "execution_count": 13
        }
      ]
    },
    {
      "cell_type": "code",
      "source": [
        "# Let's try to change value in changeable tensor\n",
        "changeable_tensors[0] = 9    #Let's try to assign 9 onto 0th index\n",
        "changeable_tensors"
      ],
      "metadata": {
        "colab": {
          "base_uri": "https://localhost:8080/",
          "height": 176
        },
        "id": "fYlj6_B27mtg",
        "outputId": "00102ccb-1e11-43c2-85dd-aee6cb4861ef"
      },
      "execution_count": 14,
      "outputs": [
        {
          "output_type": "error",
          "ename": "TypeError",
          "evalue": "'ResourceVariable' object does not support item assignment",
          "traceback": [
            "\u001b[0;31m---------------------------------------------------------------------------\u001b[0m",
            "\u001b[0;31mTypeError\u001b[0m                                 Traceback (most recent call last)",
            "\u001b[0;32m/tmp/ipython-input-14-2027822138.py\u001b[0m in \u001b[0;36m<cell line: 0>\u001b[0;34m()\u001b[0m\n\u001b[1;32m      1\u001b[0m \u001b[0;31m# Let's try to change value in changeable tensor\u001b[0m\u001b[0;34m\u001b[0m\u001b[0;34m\u001b[0m\u001b[0m\n\u001b[0;32m----> 2\u001b[0;31m \u001b[0mchangeable_tensors\u001b[0m\u001b[0;34m[\u001b[0m\u001b[0;36m0\u001b[0m\u001b[0;34m]\u001b[0m \u001b[0;34m=\u001b[0m \u001b[0;36m9\u001b[0m    \u001b[0;31m#Let's try to assign 9 onto 0th index\u001b[0m\u001b[0;34m\u001b[0m\u001b[0;34m\u001b[0m\u001b[0m\n\u001b[0m\u001b[1;32m      3\u001b[0m \u001b[0mchangeable_tensors\u001b[0m\u001b[0;34m\u001b[0m\u001b[0;34m\u001b[0m\u001b[0m\n",
            "\u001b[0;31mTypeError\u001b[0m: 'ResourceVariable' object does not support item assignment"
          ]
        }
      ]
    },
    {
      "cell_type": "code",
      "source": [
        "# Oops! we got error in assingning\n",
        "# How about using .assing method available in tensorflow\n",
        "changeable_tensors[0].assign(9)\n",
        "changeable_tensors"
      ],
      "metadata": {
        "colab": {
          "base_uri": "https://localhost:8080/"
        },
        "id": "AfsP9cs-777R",
        "outputId": "a50081b0-60e2-4695-f87a-9ea4c971e055"
      },
      "execution_count": 15,
      "outputs": [
        {
          "output_type": "execute_result",
          "data": {
            "text/plain": [
              "<tf.Variable 'Variable:0' shape=(2,) dtype=int32, numpy=array([9, 9], dtype=int32)>"
            ]
          },
          "metadata": {},
          "execution_count": 15
        }
      ]
    },
    {
      "cell_type": "code",
      "source": [
        "# Now, let's try to change value in unchangeable tensor\n",
        "unchangeable_tensor[0].assign(3)\n",
        "unchangeable_tensor"
      ],
      "metadata": {
        "colab": {
          "base_uri": "https://localhost:8080/",
          "height": 332
        },
        "id": "UUHXVLRE8Q64",
        "outputId": "805cb08c-f703-4350-9e24-0cb7e27f80ab"
      },
      "execution_count": 16,
      "outputs": [
        {
          "output_type": "error",
          "ename": "AttributeError",
          "evalue": "'tensorflow.python.framework.ops.EagerTensor' object has no attribute 'assign'",
          "traceback": [
            "\u001b[0;31m---------------------------------------------------------------------------\u001b[0m",
            "\u001b[0;31mAttributeError\u001b[0m                            Traceback (most recent call last)",
            "\u001b[0;32m/tmp/ipython-input-16-3703943550.py\u001b[0m in \u001b[0;36m<cell line: 0>\u001b[0;34m()\u001b[0m\n\u001b[1;32m      1\u001b[0m \u001b[0;31m# Now, let's try to change value in unchangeable tensor\u001b[0m\u001b[0;34m\u001b[0m\u001b[0;34m\u001b[0m\u001b[0m\n\u001b[0;32m----> 2\u001b[0;31m \u001b[0munchangeable_tensor\u001b[0m\u001b[0;34m[\u001b[0m\u001b[0;36m0\u001b[0m\u001b[0;34m]\u001b[0m\u001b[0;34m.\u001b[0m\u001b[0massign\u001b[0m\u001b[0;34m(\u001b[0m\u001b[0;36m3\u001b[0m\u001b[0;34m)\u001b[0m\u001b[0;34m\u001b[0m\u001b[0;34m\u001b[0m\u001b[0m\n\u001b[0m\u001b[1;32m      3\u001b[0m \u001b[0munchangeable_tensor\u001b[0m\u001b[0;34m\u001b[0m\u001b[0;34m\u001b[0m\u001b[0m\n",
            "\u001b[0;32m/usr/local/lib/python3.11/dist-packages/tensorflow/python/framework/tensor.py\u001b[0m in \u001b[0;36m__getattr__\u001b[0;34m(self, name)\u001b[0m\n\u001b[1;32m    258\u001b[0m         \u001b[0mtf\u001b[0m\u001b[0;34m.\u001b[0m\u001b[0mexperimental\u001b[0m\u001b[0;34m.\u001b[0m\u001b[0mnumpy\u001b[0m\u001b[0;34m.\u001b[0m\u001b[0mexperimental_enable_numpy_behavior\u001b[0m\u001b[0;34m(\u001b[0m\u001b[0;34m)\u001b[0m\u001b[0;34m\u001b[0m\u001b[0;34m\u001b[0m\u001b[0m\n\u001b[1;32m    259\u001b[0m       \"\"\")\n\u001b[0;32m--> 260\u001b[0;31m     \u001b[0mself\u001b[0m\u001b[0;34m.\u001b[0m\u001b[0m__getattribute__\u001b[0m\u001b[0;34m(\u001b[0m\u001b[0mname\u001b[0m\u001b[0;34m)\u001b[0m\u001b[0;34m\u001b[0m\u001b[0;34m\u001b[0m\u001b[0m\n\u001b[0m\u001b[1;32m    261\u001b[0m \u001b[0;34m\u001b[0m\u001b[0m\n\u001b[1;32m    262\u001b[0m   \u001b[0;34m@\u001b[0m\u001b[0mproperty\u001b[0m\u001b[0;34m\u001b[0m\u001b[0;34m\u001b[0m\u001b[0m\n",
            "\u001b[0;31mAttributeError\u001b[0m: 'tensorflow.python.framework.ops.EagerTensor' object has no attribute 'assign'"
          ]
        }
      ]
    },
    {
      "cell_type": "markdown",
      "source": [
        "`📜Note` : When we want tensors which change their values we use `tf.Variable()`, and when we want such tensors which do not change their values we use `tf.constant()`"
      ],
      "metadata": {
        "id": "8Z0cry7w9Wws"
      }
    },
    {
      "cell_type": "markdown",
      "source": [
        "### Creating random tensors\n",
        "\n",
        "Random tensors are tensors of some arbitary size which contains random numbers."
      ],
      "metadata": {
        "id": "oXtYiw8m8wRo"
      }
    },
    {
      "cell_type": "code",
      "source": [
        "# Create two random (but the same) tensors\n",
        "random_1 = tf.random.Generator.from_seed(42) # set seed for reproducibility\n",
        "random_1 = random_1.normal(shape=(3,2))\n",
        "random_2 = tf.random.Generator.from_seed(42)\n",
        "random_2 = random_2.normal(shape=(3,2))"
      ],
      "metadata": {
        "id": "eXtgv0iJ9NjA"
      },
      "execution_count": 17,
      "outputs": []
    },
    {
      "cell_type": "code",
      "source": [
        "random_1, random_2"
      ],
      "metadata": {
        "colab": {
          "base_uri": "https://localhost:8080/"
        },
        "id": "vv6xEkqF_2tM",
        "outputId": "4ff76ed4-bdc5-4c90-9b57-2fbba2e9f376"
      },
      "execution_count": 18,
      "outputs": [
        {
          "output_type": "execute_result",
          "data": {
            "text/plain": [
              "(<tf.Tensor: shape=(3, 2), dtype=float32, numpy=\n",
              " array([[-0.7565803 , -0.06854702],\n",
              "        [ 0.07595026, -1.2573844 ],\n",
              "        [-0.23193763, -1.8107855 ]], dtype=float32)>,\n",
              " <tf.Tensor: shape=(3, 2), dtype=float32, numpy=\n",
              " array([[-0.7565803 , -0.06854702],\n",
              "        [ 0.07595026, -1.2573844 ],\n",
              "        [-0.23193763, -1.8107855 ]], dtype=float32)>)"
            ]
          },
          "metadata": {},
          "execution_count": 18
        }
      ]
    },
    {
      "cell_type": "code",
      "source": [
        "random_1 == random_2"
      ],
      "metadata": {
        "colab": {
          "base_uri": "https://localhost:8080/"
        },
        "id": "ZuIwxN2RAZuw",
        "outputId": "8824d3dd-4535-4fe8-93ce-06b6d6a4e868"
      },
      "execution_count": 19,
      "outputs": [
        {
          "output_type": "execute_result",
          "data": {
            "text/plain": [
              "<tf.Tensor: shape=(3, 2), dtype=bool, numpy=\n",
              "array([[ True,  True],\n",
              "       [ True,  True],\n",
              "       [ True,  True]])>"
            ]
          },
          "metadata": {},
          "execution_count": 19
        }
      ]
    },
    {
      "cell_type": "markdown",
      "source": [
        "### Shuffle the order of elements in tensor\n",
        "\n",
        "#####  `What is the need of shuffling tensors?`\n",
        "#####  e.g., Suppose you have total of 10,000 images in which 8,000 are of dogs and rest 2,000 are of cats.\n",
        "#####        When our neural network will hit the tensors it will learn the pattern of only dogs most probably as it can't see cats for a long time.\n",
        "#####        This may affect the results and accuracy, hence shuffling of tensors is necessary\n"
      ],
      "metadata": {
        "id": "4_DiKlV3AlUA"
      }
    },
    {
      "cell_type": "code",
      "source": [
        "# Shuffle a tensor (valubale for when you want to shuffle your data so that inherent order doesn't effect learning)\n",
        "not_shuffled_tensor = tf.constant([[1,2],\n",
        "                                   [3,4],\n",
        "                                   [5,6]])\n",
        "not_shuffled_tensor.ndim"
      ],
      "metadata": {
        "colab": {
          "base_uri": "https://localhost:8080/"
        },
        "id": "4v-qZmifClXf",
        "outputId": "609920e0-6de5-4384-e502-ec7e1424fd86"
      },
      "execution_count": 20,
      "outputs": [
        {
          "output_type": "execute_result",
          "data": {
            "text/plain": [
              "2"
            ]
          },
          "metadata": {},
          "execution_count": 20
        }
      ]
    },
    {
      "cell_type": "code",
      "source": [
        "not_shuffled_tensor"
      ],
      "metadata": {
        "colab": {
          "base_uri": "https://localhost:8080/"
        },
        "id": "kAW5y6CIDHmG",
        "outputId": "6856b9e1-4461-47a7-dd0d-35040d1e43dc"
      },
      "execution_count": 21,
      "outputs": [
        {
          "output_type": "execute_result",
          "data": {
            "text/plain": [
              "<tf.Tensor: shape=(3, 2), dtype=int32, numpy=\n",
              "array([[1, 2],\n",
              "       [3, 4],\n",
              "       [5, 6]], dtype=int32)>"
            ]
          },
          "metadata": {},
          "execution_count": 21
        }
      ]
    },
    {
      "cell_type": "markdown",
      "source": [
        "It looks like if we want our shuffled tensors to be in the same order, we've got to use the global level random seed as well as the operational level random seed:\n",
        "\n",
        "> `Rule 4`: If both the global and the operatinal seed are set: Both seeds are used in conjunction to determine the random sequence"
      ],
      "metadata": {
        "id": "kJT2kAbYzk-0"
      }
    },
    {
      "cell_type": "code",
      "source": [
        "#shuffling our not_shuffled_tensor\n",
        "tf.random.set_seed(42)\n",
        "tf.random.shuffle(not_shuffled_tensor, seed=42)"
      ],
      "metadata": {
        "colab": {
          "base_uri": "https://localhost:8080/"
        },
        "id": "gUNfega1DLOw",
        "outputId": "4a0e6eb7-0b28-4f10-b5ff-cb080751dc8b"
      },
      "execution_count": 22,
      "outputs": [
        {
          "output_type": "execute_result",
          "data": {
            "text/plain": [
              "<tf.Tensor: shape=(3, 2), dtype=int32, numpy=\n",
              "array([[1, 2],\n",
              "       [3, 4],\n",
              "       [5, 6]], dtype=int32)>"
            ]
          },
          "metadata": {},
          "execution_count": 22
        }
      ]
    },
    {
      "cell_type": "markdown",
      "source": [
        "### Other ways to create tensors"
      ],
      "metadata": {
        "id": "_VZa4wApEHK5"
      }
    },
    {
      "cell_type": "code",
      "source": [
        "# Create a tensor with all elements as 1\n",
        "tf.ones([5,6])"
      ],
      "metadata": {
        "colab": {
          "base_uri": "https://localhost:8080/"
        },
        "id": "9dRFBHejzsMY",
        "outputId": "ee5b1ed6-d917-416e-f655-87dd067e4c37"
      },
      "execution_count": 23,
      "outputs": [
        {
          "output_type": "execute_result",
          "data": {
            "text/plain": [
              "<tf.Tensor: shape=(5, 6), dtype=float32, numpy=\n",
              "array([[1., 1., 1., 1., 1., 1.],\n",
              "       [1., 1., 1., 1., 1., 1.],\n",
              "       [1., 1., 1., 1., 1., 1.],\n",
              "       [1., 1., 1., 1., 1., 1.],\n",
              "       [1., 1., 1., 1., 1., 1.]], dtype=float32)>"
            ]
          },
          "metadata": {},
          "execution_count": 23
        }
      ]
    },
    {
      "cell_type": "code",
      "source": [
        "# Create a tensor with all elements as 0\n",
        "tf.zeros([5,6])"
      ],
      "metadata": {
        "colab": {
          "base_uri": "https://localhost:8080/"
        },
        "id": "F4YvZ_PPz0TP",
        "outputId": "1176719a-ea73-458f-d64c-b1d697908585"
      },
      "execution_count": 24,
      "outputs": [
        {
          "output_type": "execute_result",
          "data": {
            "text/plain": [
              "<tf.Tensor: shape=(5, 6), dtype=float32, numpy=\n",
              "array([[0., 0., 0., 0., 0., 0.],\n",
              "       [0., 0., 0., 0., 0., 0.],\n",
              "       [0., 0., 0., 0., 0., 0.],\n",
              "       [0., 0., 0., 0., 0., 0.],\n",
              "       [0., 0., 0., 0., 0., 0.]], dtype=float32)>"
            ]
          },
          "metadata": {},
          "execution_count": 24
        }
      ]
    },
    {
      "cell_type": "markdown",
      "source": [
        "### Turn Numpy arrays into tensors\n",
        "\n",
        "The main difference between Numpy arrays and TensorFlow tensors is that tensors can be run on a GPU much faster(for numerical computing)"
      ],
      "metadata": {
        "id": "Ugw5A9jL0UJ9"
      }
    },
    {
      "cell_type": "code",
      "source": [
        "# We can also create NumPy arrays into tensors\n",
        "import numpy as np\n",
        "np_arr = np.arange(1,31, dtype=np.int32)\n",
        "\n",
        "# X = tf.constant(some_matrix)   # capital for matrix or tensor\n",
        "# y = tf.constant(vector)  # non-capital for vector\n",
        "\n",
        "np_arr"
      ],
      "metadata": {
        "colab": {
          "base_uri": "https://localhost:8080/"
        },
        "id": "PGBmNCQo1mxv",
        "outputId": "8c8124a8-9809-475e-aa9b-24aa088426fa"
      },
      "execution_count": 25,
      "outputs": [
        {
          "output_type": "execute_result",
          "data": {
            "text/plain": [
              "array([ 1,  2,  3,  4,  5,  6,  7,  8,  9, 10, 11, 12, 13, 14, 15, 16, 17,\n",
              "       18, 19, 20, 21, 22, 23, 24, 25, 26, 27, 28, 29, 30], dtype=int32)"
            ]
          },
          "metadata": {},
          "execution_count": 25
        }
      ]
    },
    {
      "cell_type": "code",
      "source": [
        "# converting numpy array -> tensor\n",
        "A = tf.constant(np_arr, shape=(5,6))\n",
        "A"
      ],
      "metadata": {
        "colab": {
          "base_uri": "https://localhost:8080/"
        },
        "id": "Hfza2PUS2Ilw",
        "outputId": "bf3d29f3-48c7-4317-d4b2-600228be6ef4"
      },
      "execution_count": 26,
      "outputs": [
        {
          "output_type": "execute_result",
          "data": {
            "text/plain": [
              "<tf.Tensor: shape=(5, 6), dtype=int32, numpy=\n",
              "array([[ 1,  2,  3,  4,  5,  6],\n",
              "       [ 7,  8,  9, 10, 11, 12],\n",
              "       [13, 14, 15, 16, 17, 18],\n",
              "       [19, 20, 21, 22, 23, 24],\n",
              "       [25, 26, 27, 28, 29, 30]], dtype=int32)>"
            ]
          },
          "metadata": {},
          "execution_count": 26
        }
      ]
    },
    {
      "cell_type": "code",
      "source": [
        "5 * 6 #it should be 30(total elements) then will `shape` work"
      ],
      "metadata": {
        "colab": {
          "base_uri": "https://localhost:8080/"
        },
        "id": "pyPUIXKy2oSw",
        "outputId": "9d7a4203-13cc-47be-e972-1b5d8d49d88d"
      },
      "execution_count": 27,
      "outputs": [
        {
          "output_type": "execute_result",
          "data": {
            "text/plain": [
              "30"
            ]
          },
          "metadata": {},
          "execution_count": 27
        }
      ]
    },
    {
      "cell_type": "markdown",
      "source": [
        "### Getting Information from tensors\n",
        "\n",
        "When dealing with tensors we probably want to aware of the following attributes:\n",
        "* Shape\n",
        "* Rank\n",
        "* Axis and dimension\n",
        "* Size"
      ],
      "metadata": {
        "id": "xJCDJfVj3SZ_"
      }
    },
    {
      "cell_type": "code",
      "source": [
        "# Create a rank 4 tensor (4 dimensions)\n",
        "rank_4_tensor = tf.zeros(shape=[2,3,4,5])\n",
        "rank_4_tensor"
      ],
      "metadata": {
        "colab": {
          "base_uri": "https://localhost:8080/"
        },
        "id": "v_H-63uXdf6Y",
        "outputId": "a3934757-0a13-413c-d2eb-60b784921fe8"
      },
      "execution_count": 28,
      "outputs": [
        {
          "output_type": "execute_result",
          "data": {
            "text/plain": [
              "<tf.Tensor: shape=(2, 3, 4, 5), dtype=float32, numpy=\n",
              "array([[[[0., 0., 0., 0., 0.],\n",
              "         [0., 0., 0., 0., 0.],\n",
              "         [0., 0., 0., 0., 0.],\n",
              "         [0., 0., 0., 0., 0.]],\n",
              "\n",
              "        [[0., 0., 0., 0., 0.],\n",
              "         [0., 0., 0., 0., 0.],\n",
              "         [0., 0., 0., 0., 0.],\n",
              "         [0., 0., 0., 0., 0.]],\n",
              "\n",
              "        [[0., 0., 0., 0., 0.],\n",
              "         [0., 0., 0., 0., 0.],\n",
              "         [0., 0., 0., 0., 0.],\n",
              "         [0., 0., 0., 0., 0.]]],\n",
              "\n",
              "\n",
              "       [[[0., 0., 0., 0., 0.],\n",
              "         [0., 0., 0., 0., 0.],\n",
              "         [0., 0., 0., 0., 0.],\n",
              "         [0., 0., 0., 0., 0.]],\n",
              "\n",
              "        [[0., 0., 0., 0., 0.],\n",
              "         [0., 0., 0., 0., 0.],\n",
              "         [0., 0., 0., 0., 0.],\n",
              "         [0., 0., 0., 0., 0.]],\n",
              "\n",
              "        [[0., 0., 0., 0., 0.],\n",
              "         [0., 0., 0., 0., 0.],\n",
              "         [0., 0., 0., 0., 0.],\n",
              "         [0., 0., 0., 0., 0.]]]], dtype=float32)>"
            ]
          },
          "metadata": {},
          "execution_count": 28
        }
      ]
    },
    {
      "cell_type": "code",
      "source": [
        "rank_4_tensor[0]"
      ],
      "metadata": {
        "colab": {
          "base_uri": "https://localhost:8080/"
        },
        "id": "5MnVCMtffUv9",
        "outputId": "54a623b9-af7a-431a-e1e4-a9151c5094bf"
      },
      "execution_count": 29,
      "outputs": [
        {
          "output_type": "execute_result",
          "data": {
            "text/plain": [
              "<tf.Tensor: shape=(3, 4, 5), dtype=float32, numpy=\n",
              "array([[[0., 0., 0., 0., 0.],\n",
              "        [0., 0., 0., 0., 0.],\n",
              "        [0., 0., 0., 0., 0.],\n",
              "        [0., 0., 0., 0., 0.]],\n",
              "\n",
              "       [[0., 0., 0., 0., 0.],\n",
              "        [0., 0., 0., 0., 0.],\n",
              "        [0., 0., 0., 0., 0.],\n",
              "        [0., 0., 0., 0., 0.]],\n",
              "\n",
              "       [[0., 0., 0., 0., 0.],\n",
              "        [0., 0., 0., 0., 0.],\n",
              "        [0., 0., 0., 0., 0.],\n",
              "        [0., 0., 0., 0., 0.]]], dtype=float32)>"
            ]
          },
          "metadata": {},
          "execution_count": 29
        }
      ]
    },
    {
      "cell_type": "code",
      "source": [
        "print(\"Shape of tensor: \",rank_4_tensor.shape)\n",
        "print(\"Rank of tensor: \", rank_4_tensor.ndim)\n",
        "print(\"Size of tensor: \", tf.size(rank_4_tensor))"
      ],
      "metadata": {
        "colab": {
          "base_uri": "https://localhost:8080/"
        },
        "id": "E9c0DWHAfxNY",
        "outputId": "6d5d5b74-fe86-4944-ec40-97331032291e"
      },
      "execution_count": 30,
      "outputs": [
        {
          "output_type": "stream",
          "name": "stdout",
          "text": [
            "Shape of tensor:  (2, 3, 4, 5)\n",
            "Rank of tensor:  4\n",
            "Size of tensor:  tf.Tensor(120, shape=(), dtype=int32)\n"
          ]
        }
      ]
    },
    {
      "cell_type": "code",
      "source": [
        "2 * 3 * 4 * 5"
      ],
      "metadata": {
        "colab": {
          "base_uri": "https://localhost:8080/"
        },
        "id": "qdMejPQjgkTj",
        "outputId": "53aa4996-4b59-45a6-d802-987306286fc7"
      },
      "execution_count": 31,
      "outputs": [
        {
          "output_type": "execute_result",
          "data": {
            "text/plain": [
              "120"
            ]
          },
          "metadata": {},
          "execution_count": 31
        }
      ]
    },
    {
      "cell_type": "code",
      "source": [
        "# Get various attributes of our tensor\n",
        "print(\"Datatype of every element: \", rank_4_tensor.dtype)\n",
        "print(\"Number of dimensions (rank): \", rank_4_tensor.ndim)\n",
        "print(\"Shape of tensor: \",rank_4_tensor.shape)\n",
        "print(\"Elements along the 0 axis: \", rank_4_tensor.shape[0])\n",
        "print(\"Elements along the last axis: \", rank_4_tensor.shape[-1])\n",
        "print(\"Total number of elements in our tensor: \", tf.size(rank_4_tensor).numpy())"
      ],
      "metadata": {
        "colab": {
          "base_uri": "https://localhost:8080/"
        },
        "id": "DVLq52_-g0e0",
        "outputId": "be232985-ed9c-4c44-ccda-878d2a7b2ffd"
      },
      "execution_count": 32,
      "outputs": [
        {
          "output_type": "stream",
          "name": "stdout",
          "text": [
            "Datatype of every element:  <dtype: 'float32'>\n",
            "Number of dimensions (rank):  4\n",
            "Shape of tensor:  (2, 3, 4, 5)\n",
            "Elements along the 0 axis:  2\n",
            "Elements along the last axis:  5\n",
            "Total number of elements in our tensor:  120\n"
          ]
        }
      ]
    },
    {
      "cell_type": "markdown",
      "source": [
        "### Indexing tensors\n",
        "\n",
        "Tensors can be indexed just like python lists"
      ],
      "metadata": {
        "id": "YtFz8F2MjI7z"
      }
    },
    {
      "cell_type": "code",
      "source": [
        "# Get the first 2 elements of each dimensions\n",
        "rank_4_tensor[:2, :2, :2, :2]"
      ],
      "metadata": {
        "colab": {
          "base_uri": "https://localhost:8080/"
        },
        "id": "s6fYCWJTkXhy",
        "outputId": "8e9117ec-6ad1-4950-f21b-5aea597cf5a0"
      },
      "execution_count": 33,
      "outputs": [
        {
          "output_type": "execute_result",
          "data": {
            "text/plain": [
              "<tf.Tensor: shape=(2, 2, 2, 2), dtype=float32, numpy=\n",
              "array([[[[0., 0.],\n",
              "         [0., 0.]],\n",
              "\n",
              "        [[0., 0.],\n",
              "         [0., 0.]]],\n",
              "\n",
              "\n",
              "       [[[0., 0.],\n",
              "         [0., 0.]],\n",
              "\n",
              "        [[0., 0.],\n",
              "         [0., 0.]]]], dtype=float32)>"
            ]
          },
          "metadata": {},
          "execution_count": 33
        }
      ]
    },
    {
      "cell_type": "code",
      "source": [
        "# Get first element frome each dimension from each index except for final one\n",
        "rank_4_tensor[:1, :1, :1, :]"
      ],
      "metadata": {
        "colab": {
          "base_uri": "https://localhost:8080/"
        },
        "id": "22BkHtKFkkHo",
        "outputId": "50b7efa9-d434-4fe1-b018-d8bd927f5b00"
      },
      "execution_count": 34,
      "outputs": [
        {
          "output_type": "execute_result",
          "data": {
            "text/plain": [
              "<tf.Tensor: shape=(1, 1, 1, 5), dtype=float32, numpy=array([[[[0., 0., 0., 0., 0.]]]], dtype=float32)>"
            ]
          },
          "metadata": {},
          "execution_count": 34
        }
      ]
    },
    {
      "cell_type": "code",
      "source": [
        "# Create a rank 2 tensor (2 dimensions)\n",
        "rank_2_tensor = tf.zeros([2,4])\n",
        "rank_2_tensor"
      ],
      "metadata": {
        "colab": {
          "base_uri": "https://localhost:8080/"
        },
        "id": "rrqeSz5Gk_XZ",
        "outputId": "3ae23ade-0cc1-40e4-e196-8a3e2bca805d"
      },
      "execution_count": 35,
      "outputs": [
        {
          "output_type": "execute_result",
          "data": {
            "text/plain": [
              "<tf.Tensor: shape=(2, 4), dtype=float32, numpy=\n",
              "array([[0., 0., 0., 0.],\n",
              "       [0., 0., 0., 0.]], dtype=float32)>"
            ]
          },
          "metadata": {},
          "execution_count": 35
        }
      ]
    },
    {
      "cell_type": "code",
      "source": [
        "rank_2_tensor.ndim"
      ],
      "metadata": {
        "colab": {
          "base_uri": "https://localhost:8080/"
        },
        "id": "WFbiKgdIllPQ",
        "outputId": "5d3a0d3b-6c03-4ed8-8580-25364a6f18cc"
      },
      "execution_count": 36,
      "outputs": [
        {
          "output_type": "execute_result",
          "data": {
            "text/plain": [
              "2"
            ]
          },
          "metadata": {},
          "execution_count": 36
        }
      ]
    },
    {
      "cell_type": "code",
      "source": [
        "# Get the last item of each row of our rank_2_tensor\n",
        "rank_2_tensor[:, -1]"
      ],
      "metadata": {
        "colab": {
          "base_uri": "https://localhost:8080/"
        },
        "id": "fJk0sP8Oln5n",
        "outputId": "938d5493-c494-4780-d5f7-955992a60e70"
      },
      "execution_count": 37,
      "outputs": [
        {
          "output_type": "execute_result",
          "data": {
            "text/plain": [
              "<tf.Tensor: shape=(2,), dtype=float32, numpy=array([0., 0.], dtype=float32)>"
            ]
          },
          "metadata": {},
          "execution_count": 37
        }
      ]
    },
    {
      "cell_type": "code",
      "source": [
        "# Add in extra dimension to our rank_2_tensor\n",
        "rank_3_tensor = rank_2_tensor[..., tf.newaxis]     # ... means creating a copy\n",
        "rank_3_tensor"
      ],
      "metadata": {
        "colab": {
          "base_uri": "https://localhost:8080/"
        },
        "id": "ITmfwDedl9aN",
        "outputId": "d5aac03e-459b-4555-b9f9-cd854e5ceb94"
      },
      "execution_count": 38,
      "outputs": [
        {
          "output_type": "execute_result",
          "data": {
            "text/plain": [
              "<tf.Tensor: shape=(2, 4, 1), dtype=float32, numpy=\n",
              "array([[[0.],\n",
              "        [0.],\n",
              "        [0.],\n",
              "        [0.]],\n",
              "\n",
              "       [[0.],\n",
              "        [0.],\n",
              "        [0.],\n",
              "        [0.]]], dtype=float32)>"
            ]
          },
          "metadata": {},
          "execution_count": 38
        }
      ]
    },
    {
      "cell_type": "code",
      "source": [
        "# Alternative to tf.newaxis\n",
        "tf.expand_dims(rank_2_tensor, axis=-1)  # -1 means expannd the final axis"
      ],
      "metadata": {
        "colab": {
          "base_uri": "https://localhost:8080/"
        },
        "id": "kPa1QjQFmeA4",
        "outputId": "b3926924-3931-43b3-bec0-33757ac65e37"
      },
      "execution_count": 39,
      "outputs": [
        {
          "output_type": "execute_result",
          "data": {
            "text/plain": [
              "<tf.Tensor: shape=(2, 4, 1), dtype=float32, numpy=\n",
              "array([[[0.],\n",
              "        [0.],\n",
              "        [0.],\n",
              "        [0.]],\n",
              "\n",
              "       [[0.],\n",
              "        [0.],\n",
              "        [0.],\n",
              "        [0.]]], dtype=float32)>"
            ]
          },
          "metadata": {},
          "execution_count": 39
        }
      ]
    },
    {
      "cell_type": "markdown",
      "source": [
        "### Manipulating Tensors (tensor operations)\n",
        "\n",
        "**Basic Operations**\n",
        "`+`, `-`, `*`, `/`"
      ],
      "metadata": {
        "id": "iAly4PgSm_Qp"
      }
    },
    {
      "cell_type": "code",
      "source": [
        "# You can add values to a tensor using the addition operator\n",
        "tensor = tf.constant([[2,4], [5,4]])\n",
        "tensor + 10"
      ],
      "metadata": {
        "colab": {
          "base_uri": "https://localhost:8080/"
        },
        "id": "vV4FAVn9ORGn",
        "outputId": "b9156739-2d3c-49ca-bc09-afaa2e87d4fc"
      },
      "execution_count": 40,
      "outputs": [
        {
          "output_type": "execute_result",
          "data": {
            "text/plain": [
              "<tf.Tensor: shape=(2, 2), dtype=int32, numpy=\n",
              "array([[12, 14],\n",
              "       [15, 14]], dtype=int32)>"
            ]
          },
          "metadata": {},
          "execution_count": 40
        }
      ]
    },
    {
      "cell_type": "code",
      "source": [
        "# Remember : Original tensor is unchanged\n",
        "tensor"
      ],
      "metadata": {
        "colab": {
          "base_uri": "https://localhost:8080/"
        },
        "id": "Go5-bFbfOwz5",
        "outputId": "3da9c30a-6f67-458b-e1b1-fc471c1a731c"
      },
      "execution_count": 41,
      "outputs": [
        {
          "output_type": "execute_result",
          "data": {
            "text/plain": [
              "<tf.Tensor: shape=(2, 2), dtype=int32, numpy=\n",
              "array([[2, 4],\n",
              "       [5, 4]], dtype=int32)>"
            ]
          },
          "metadata": {},
          "execution_count": 41
        }
      ]
    },
    {
      "cell_type": "code",
      "source": [
        "# Multiplication\n",
        "tensor * 10"
      ],
      "metadata": {
        "colab": {
          "base_uri": "https://localhost:8080/"
        },
        "id": "moSs8AyQPjzh",
        "outputId": "757b4f30-8e6e-4156-932a-a7959c20500b"
      },
      "execution_count": 42,
      "outputs": [
        {
          "output_type": "execute_result",
          "data": {
            "text/plain": [
              "<tf.Tensor: shape=(2, 2), dtype=int32, numpy=\n",
              "array([[20, 40],\n",
              "       [50, 40]], dtype=int32)>"
            ]
          },
          "metadata": {},
          "execution_count": 42
        }
      ]
    },
    {
      "cell_type": "code",
      "source": [
        "# Subtraction\n",
        "tensor - 10"
      ],
      "metadata": {
        "colab": {
          "base_uri": "https://localhost:8080/"
        },
        "id": "1hw-Smv5Po5x",
        "outputId": "ebe7ffba-2981-4dfb-facf-999d4726f823"
      },
      "execution_count": 43,
      "outputs": [
        {
          "output_type": "execute_result",
          "data": {
            "text/plain": [
              "<tf.Tensor: shape=(2, 2), dtype=int32, numpy=\n",
              "array([[-8, -6],\n",
              "       [-5, -6]], dtype=int32)>"
            ]
          },
          "metadata": {},
          "execution_count": 43
        }
      ]
    },
    {
      "cell_type": "code",
      "source": [
        "# Divison\n",
        "tensor / 10"
      ],
      "metadata": {
        "colab": {
          "base_uri": "https://localhost:8080/"
        },
        "id": "S_xMI8E6SIzZ",
        "outputId": "a1257eae-5b7d-4fdc-f491-e7c7e45aaf89"
      },
      "execution_count": 44,
      "outputs": [
        {
          "output_type": "execute_result",
          "data": {
            "text/plain": [
              "<tf.Tensor: shape=(2, 2), dtype=float64, numpy=\n",
              "array([[0.2, 0.4],\n",
              "       [0.5, 0.4]])>"
            ]
          },
          "metadata": {},
          "execution_count": 44
        }
      ]
    },
    {
      "cell_type": "code",
      "source": [
        "# We can use the tensorflow built-in function too\n",
        "tf.multiply(tensor, 10)  # this will do element wise multiplication"
      ],
      "metadata": {
        "colab": {
          "base_uri": "https://localhost:8080/"
        },
        "id": "4xlzHtbrSLlh",
        "outputId": "ce0e6f60-67d4-4802-c5d9-8743d3470cc4"
      },
      "execution_count": 45,
      "outputs": [
        {
          "output_type": "execute_result",
          "data": {
            "text/plain": [
              "<tf.Tensor: shape=(2, 2), dtype=int32, numpy=\n",
              "array([[20, 40],\n",
              "       [50, 40]], dtype=int32)>"
            ]
          },
          "metadata": {},
          "execution_count": 45
        }
      ]
    },
    {
      "cell_type": "markdown",
      "source": [
        "### Matrix Multiplication\n",
        "\n",
        "In machine learning, matrix multiplication is one of the most common tensor operations\n",
        "\n",
        "\n",
        "There are two rules our tensors (or matrices) need to fulfil if we're going to matrix multiply them:\n",
        "\n",
        "1. The inner dimensions must match\n",
        "2. The resulting matrix has the shape of the outer dimensions"
      ],
      "metadata": {
        "id": "uaf-LfE6SYCQ"
      }
    },
    {
      "cell_type": "code",
      "source": [
        " # Matrix multiplication in tensorflow\n",
        "print(tensor)\n",
        "tf.matmul(tensor, tensor)"
      ],
      "metadata": {
        "colab": {
          "base_uri": "https://localhost:8080/"
        },
        "id": "cNXuiYX7WtfW",
        "outputId": "81a2170e-e037-4324-8550-88525a8385df"
      },
      "execution_count": 46,
      "outputs": [
        {
          "output_type": "stream",
          "name": "stdout",
          "text": [
            "tf.Tensor(\n",
            "[[2 4]\n",
            " [5 4]], shape=(2, 2), dtype=int32)\n"
          ]
        },
        {
          "output_type": "execute_result",
          "data": {
            "text/plain": [
              "<tf.Tensor: shape=(2, 2), dtype=int32, numpy=\n",
              "array([[24, 24],\n",
              "       [30, 36]], dtype=int32)>"
            ]
          },
          "metadata": {},
          "execution_count": 46
        }
      ]
    },
    {
      "cell_type": "code",
      "source": [
        "# Another example of matrix multiplication in tensor\n",
        "t1 = tf.constant([[1,2,5],\n",
        "                  [7,2,1],\n",
        "                  [3,3,3]])\n",
        "t2 = tf.constant([[3,5],\n",
        "                  [6,7],\n",
        "                  [1,8]])\n",
        "print(t1)\n",
        "print(t2)\n",
        "\n",
        "print(\"Matrix multiplication by tensorflow...\")\n",
        "tf.matmul(t1, t2)"
      ],
      "metadata": {
        "colab": {
          "base_uri": "https://localhost:8080/"
        },
        "id": "S-wtkXkLaIPl",
        "outputId": "a42159e6-23ed-40bb-d0cf-7edd7860ced7"
      },
      "execution_count": 47,
      "outputs": [
        {
          "output_type": "stream",
          "name": "stdout",
          "text": [
            "tf.Tensor(\n",
            "[[1 2 5]\n",
            " [7 2 1]\n",
            " [3 3 3]], shape=(3, 3), dtype=int32)\n",
            "tf.Tensor(\n",
            "[[3 5]\n",
            " [6 7]\n",
            " [1 8]], shape=(3, 2), dtype=int32)\n",
            "Matrix multiplication by tensorflow...\n"
          ]
        },
        {
          "output_type": "execute_result",
          "data": {
            "text/plain": [
              "<tf.Tensor: shape=(3, 2), dtype=int32, numpy=\n",
              "array([[20, 59],\n",
              "       [34, 57],\n",
              "       [30, 60]], dtype=int32)>"
            ]
          },
          "metadata": {},
          "execution_count": 47
        }
      ]
    },
    {
      "cell_type": "code",
      "source": [
        "# Mtarix multiplication with Python operator \"@\"\n",
        "t1 @ t2"
      ],
      "metadata": {
        "colab": {
          "base_uri": "https://localhost:8080/"
        },
        "id": "LKH6ZRIJbT0w",
        "outputId": "6feee03c-7d03-44b8-aff2-ec576397643e"
      },
      "execution_count": 48,
      "outputs": [
        {
          "output_type": "execute_result",
          "data": {
            "text/plain": [
              "<tf.Tensor: shape=(3, 2), dtype=int32, numpy=\n",
              "array([[20, 59],\n",
              "       [34, 57],\n",
              "       [30, 60]], dtype=int32)>"
            ]
          },
          "metadata": {},
          "execution_count": 48
        }
      ]
    },
    {
      "cell_type": "code",
      "source": [
        "t1.shape, t2.shape"
      ],
      "metadata": {
        "colab": {
          "base_uri": "https://localhost:8080/"
        },
        "id": "2MVRKiEqbswY",
        "outputId": "381d9af4-f9b9-4387-e191-94fc7b3438b3"
      },
      "execution_count": 49,
      "outputs": [
        {
          "output_type": "execute_result",
          "data": {
            "text/plain": [
              "(TensorShape([3, 3]), TensorShape([3, 2]))"
            ]
          },
          "metadata": {},
          "execution_count": 49
        }
      ]
    },
    {
      "cell_type": "code",
      "source": [
        "# Trying matrix multiplication by tensorflow of shame shapes\n",
        "t3 = tf.constant([[1,2],\n",
        "                  [2,3],\n",
        "                  [3,4]])\n",
        "t4 = tf.constant([[4,5],\n",
        "                  [5,6],\n",
        "                  [6,7]])\n",
        "print(\"Shape of t3: \", t3.shape)\n",
        "print(\"Shape of t4: \", t4.shape)\n",
        "\n",
        "#  tf.matmul(t3, t4)    # it will throw error here because inner dimensions are not same\n",
        "\n",
        "# try to multiply t3 with reshaped t4\n",
        "t3 @ tf.reshape(t4, shape=(2,3))\n",
        "\n",
        "# trying matmul\n",
        "tf.matmul(t3, tf.reshape(t4, shape=(2,3)))"
      ],
      "metadata": {
        "colab": {
          "base_uri": "https://localhost:8080/"
        },
        "id": "wJOlk-JbcDSt",
        "outputId": "5337e797-7979-4ae4-c409-b1032cc3f6ca"
      },
      "execution_count": 50,
      "outputs": [
        {
          "output_type": "stream",
          "name": "stdout",
          "text": [
            "Shape of t3:  (3, 2)\n",
            "Shape of t4:  (3, 2)\n"
          ]
        },
        {
          "output_type": "execute_result",
          "data": {
            "text/plain": [
              "<tf.Tensor: shape=(3, 3), dtype=int32, numpy=\n",
              "array([[16, 17, 19],\n",
              "       [26, 28, 31],\n",
              "       [36, 39, 43]], dtype=int32)>"
            ]
          },
          "metadata": {},
          "execution_count": 50
        }
      ]
    },
    {
      "cell_type": "code",
      "source": [
        "# Can to the same with transpose\n",
        "t3, tf.transpose(t3), tf.reshape(t3, shape=(2,3))"
      ],
      "metadata": {
        "colab": {
          "base_uri": "https://localhost:8080/"
        },
        "id": "OmJ7rBLkgdoj",
        "outputId": "36962e0b-d368-4404-8743-7eb85a335490"
      },
      "execution_count": 51,
      "outputs": [
        {
          "output_type": "execute_result",
          "data": {
            "text/plain": [
              "(<tf.Tensor: shape=(3, 2), dtype=int32, numpy=\n",
              " array([[1, 2],\n",
              "        [2, 3],\n",
              "        [3, 4]], dtype=int32)>,\n",
              " <tf.Tensor: shape=(2, 3), dtype=int32, numpy=\n",
              " array([[1, 2, 3],\n",
              "        [2, 3, 4]], dtype=int32)>,\n",
              " <tf.Tensor: shape=(2, 3), dtype=int32, numpy=\n",
              " array([[1, 2, 2],\n",
              "        [3, 3, 4]], dtype=int32)>)"
            ]
          },
          "metadata": {},
          "execution_count": 51
        }
      ]
    },
    {
      "cell_type": "code",
      "source": [
        "# Trying matrix multiplication with transpose rahter than reshape\n",
        "tf.matmul(tf.transpose(t3), t4)"
      ],
      "metadata": {
        "colab": {
          "base_uri": "https://localhost:8080/"
        },
        "id": "K0sW27Ybh9_R",
        "outputId": "77ce9530-67d3-4029-a2c5-a87a45c274bb"
      },
      "execution_count": 52,
      "outputs": [
        {
          "output_type": "execute_result",
          "data": {
            "text/plain": [
              "<tf.Tensor: shape=(2, 2), dtype=int32, numpy=\n",
              "array([[32, 38],\n",
              "       [47, 56]], dtype=int32)>"
            ]
          },
          "metadata": {},
          "execution_count": 52
        }
      ]
    },
    {
      "cell_type": "markdown",
      "source": [
        "**Dot Product**\n",
        "\n",
        "Matrix multiplication is also referred to as the dot product.\n",
        "\n",
        "You can perform matrix multiplication using:\n",
        "* `tf.matmul()`\n",
        "* `tf.tensordot()`\n",
        "* `@`"
      ],
      "metadata": {
        "id": "zOgMdPonifMJ"
      }
    },
    {
      "cell_type": "code",
      "source": [
        "# Perform the dot product on X and Y (requires X or Y to be transposed)\n",
        "X = tf.constant([[1,2],\n",
        "                 [3,4],\n",
        "                 [5,6]])\n",
        "Y = tf.constant([[7,8],\n",
        "                 [9,10],\n",
        "                 [11,12]])"
      ],
      "metadata": {
        "id": "5k85sLiUQ0cg"
      },
      "execution_count": 53,
      "outputs": []
    },
    {
      "cell_type": "code",
      "source": [
        "X, Y"
      ],
      "metadata": {
        "colab": {
          "base_uri": "https://localhost:8080/"
        },
        "id": "EEkOukwtRM65",
        "outputId": "eac56902-05b3-4bc9-b921-10191e2d4750"
      },
      "execution_count": 54,
      "outputs": [
        {
          "output_type": "execute_result",
          "data": {
            "text/plain": [
              "(<tf.Tensor: shape=(3, 2), dtype=int32, numpy=\n",
              " array([[1, 2],\n",
              "        [3, 4],\n",
              "        [5, 6]], dtype=int32)>,\n",
              " <tf.Tensor: shape=(3, 2), dtype=int32, numpy=\n",
              " array([[ 7,  8],\n",
              "        [ 9, 10],\n",
              "        [11, 12]], dtype=int32)>)"
            ]
          },
          "metadata": {},
          "execution_count": 54
        }
      ]
    },
    {
      "cell_type": "code",
      "source": [
        "tf.tensordot(tf.transpose(X), Y, axes=1)"
      ],
      "metadata": {
        "colab": {
          "base_uri": "https://localhost:8080/"
        },
        "id": "FDRPzBHmRX2H",
        "outputId": "fe58eaf3-a557-40c2-e7ae-d53f886e8b4f"
      },
      "execution_count": 56,
      "outputs": [
        {
          "output_type": "execute_result",
          "data": {
            "text/plain": [
              "<tf.Tensor: shape=(2, 2), dtype=int32, numpy=\n",
              "array([[ 89,  98],\n",
              "       [116, 128]], dtype=int32)>"
            ]
          },
          "metadata": {},
          "execution_count": 56
        }
      ]
    },
    {
      "cell_type": "code",
      "source": [
        "# Perform matrix multiplication between X and Y (transposed)\n",
        "tf.matmul(X, tf.transpose(Y))"
      ],
      "metadata": {
        "colab": {
          "base_uri": "https://localhost:8080/"
        },
        "id": "iEa7iuqARejh",
        "outputId": "a4509b53-5c3b-45b4-823d-350dda5f0377"
      },
      "execution_count": 57,
      "outputs": [
        {
          "output_type": "execute_result",
          "data": {
            "text/plain": [
              "<tf.Tensor: shape=(3, 3), dtype=int32, numpy=\n",
              "array([[ 23,  29,  35],\n",
              "       [ 53,  67,  81],\n",
              "       [ 83, 105, 127]], dtype=int32)>"
            ]
          },
          "metadata": {},
          "execution_count": 57
        }
      ]
    },
    {
      "cell_type": "code",
      "source": [
        "# Perform matrix multiplication between X and Y (reshaped)\n",
        "tf.matmul(X, tf.reshape(Y, shape=(2,3)))"
      ],
      "metadata": {
        "colab": {
          "base_uri": "https://localhost:8080/"
        },
        "id": "HMEFj3TXRzmB",
        "outputId": "3d4ba2bc-85d2-4f0f-d439-5eb606a56e1a"
      },
      "execution_count": 58,
      "outputs": [
        {
          "output_type": "execute_result",
          "data": {
            "text/plain": [
              "<tf.Tensor: shape=(3, 3), dtype=int32, numpy=\n",
              "array([[ 27,  30,  33],\n",
              "       [ 61,  68,  75],\n",
              "       [ 95, 106, 117]], dtype=int32)>"
            ]
          },
          "metadata": {},
          "execution_count": 58
        }
      ]
    },
    {
      "cell_type": "code",
      "source": [
        "# Check the values of Y, reshape Y and transposed Y\n",
        "print(\"Normal Y: \")\n",
        "print(Y, \"\\n\")\n",
        "\n",
        "print(\"Y reshaped to (2,3): \")\n",
        "print(tf.reshape(Y, (2,3)), \"\\n\")\n",
        "\n",
        "print(\"Y transposed: \")\n",
        "print(tf.transpose(Y))"
      ],
      "metadata": {
        "colab": {
          "base_uri": "https://localhost:8080/"
        },
        "id": "FTXbXK7cR8eh",
        "outputId": "735e7bd8-5896-4ff5-fae8-99e5900b32b7"
      },
      "execution_count": 60,
      "outputs": [
        {
          "output_type": "stream",
          "name": "stdout",
          "text": [
            "Normal Y: \n",
            "tf.Tensor(\n",
            "[[ 7  8]\n",
            " [ 9 10]\n",
            " [11 12]], shape=(3, 2), dtype=int32) \n",
            "\n",
            "Y reshaped to (2,3): \n",
            "tf.Tensor(\n",
            "[[ 7  8  9]\n",
            " [10 11 12]], shape=(2, 3), dtype=int32) \n",
            "\n",
            "Y transposed: \n",
            "tf.Tensor(\n",
            "[[ 7  9 11]\n",
            " [ 8 10 12]], shape=(2, 3), dtype=int32)\n"
          ]
        }
      ]
    },
    {
      "cell_type": "code",
      "source": [
        "tf.matmul(X, tf.transpose(Y))"
      ],
      "metadata": {
        "colab": {
          "base_uri": "https://localhost:8080/"
        },
        "id": "nDtAuVn7Sfld",
        "outputId": "cadf1661-5d63-4cc0-f19b-72d349b9cd52"
      },
      "execution_count": 64,
      "outputs": [
        {
          "output_type": "execute_result",
          "data": {
            "text/plain": [
              "<tf.Tensor: shape=(3, 3), dtype=int32, numpy=\n",
              "array([[ 23,  29,  35],\n",
              "       [ 53,  67,  81],\n",
              "       [ 83, 105, 127]], dtype=int32)>"
            ]
          },
          "metadata": {},
          "execution_count": 64
        }
      ]
    },
    {
      "cell_type": "markdown",
      "source": [
        "Generally, when performing matrix multiplication on two tensors and one of the axes doesn't line up, you will transpose(rather than reshape) one of the tesnors to get satisfy the matrix multiplication rules."
      ],
      "metadata": {
        "id": "lCAmXUARSxAI"
      }
    },
    {
      "cell_type": "markdown",
      "source": [
        "### Changing the datatype of a tensor"
      ],
      "metadata": {
        "id": "rphfdmeMTnWR"
      }
    }
  ]
}