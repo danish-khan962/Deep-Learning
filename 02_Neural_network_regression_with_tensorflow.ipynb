{
  "nbformat": 4,
  "nbformat_minor": 0,
  "metadata": {
    "colab": {
      "provenance": [],
      "authorship_tag": "ABX9TyMJJaCoxuBK2u66UqmLbWje",
      "include_colab_link": true
    },
    "kernelspec": {
      "name": "python3",
      "display_name": "Python 3"
    },
    "language_info": {
      "name": "python"
    }
  },
  "cells": [
    {
      "cell_type": "markdown",
      "metadata": {
        "id": "view-in-github",
        "colab_type": "text"
      },
      "source": [
        "<a href=\"https://colab.research.google.com/github/danish-khan962/Deep-Learning/blob/main/02_Neural_network_regression_with_tensorflow.ipynb\" target=\"_parent\"><img src=\"https://colab.research.google.com/assets/colab-badge.svg\" alt=\"Open In Colab\"/></a>"
      ]
    },
    {
      "cell_type": "markdown",
      "source": [
        "# **Neural Network Regression With Tensorflow**\n",
        "\n",
        "| Hyperparameter | Typical Values |\n",
        "|---|---|\n",
        "| **Input Layer Shape** | Same shape as number of features (e.g. 3 for #bedrooms, #bathrooms, #car spaces in housing price prediction |\n",
        "| Hidden Layers | Problem specific, minimum=1, maximum=unlimited |\n",
        "| Neurons per hidden layer | Problem specific, generally 10 to 100 |\n",
        "| Output layer shape | Same as desired prediction shape (e.g. 1 for house price) |\n",
        "| Hidden activation | Usually `ReLU`(rectified linear unit) |\n",
        "| Output activation | None, ReLU, logistic/tanh |\n",
        "| Loss Function | `MSE`(mean squared error) or `MAE`(mean absolute error)/`Huber`(combination of MAE/MSE) if outliers |\n",
        "| Optimizer | `SGD`(stochastic gradient descent), `Adam` |\n",
        "\n"
      ],
      "metadata": {
        "id": "FATWGggFm8jR"
      }
    },
    {
      "cell_type": "code",
      "source": [],
      "metadata": {
        "id": "iVeQ9liwoEaM"
      },
      "execution_count": null,
      "outputs": []
    }
  ]
}