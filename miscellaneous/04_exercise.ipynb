{
  "nbformat": 4,
  "nbformat_minor": 0,
  "metadata": {
    "colab": {
      "provenance": [],
      "authorship_tag": "ABX9TyN18DGIqZfYiivkKfcsJul2",
      "include_colab_link": true
    },
    "kernelspec": {
      "name": "python3",
      "display_name": "Python 3"
    },
    "language_info": {
      "name": "python"
    }
  },
  "cells": [
    {
      "cell_type": "markdown",
      "metadata": {
        "id": "view-in-github",
        "colab_type": "text"
      },
      "source": [
        "<a href=\"https://colab.research.google.com/github/danish-khan962/Deep-Learning/blob/main/miscellaneous/04_Exercise.ipynb\" target=\"_parent\"><img src=\"https://colab.research.google.com/assets/colab-badge.svg\" alt=\"Open In Colab\"/></a>"
      ]
    },
    {
      "cell_type": "markdown",
      "source": [
        "# **EXERCISE 4**\n",
        "\n",
        "###### Create a random tensor using tensorflow and try to find the out the positional maximum and minimum of the tensor."
      ],
      "metadata": {
        "id": "hBIATmJoD9Sl"
      }
    },
    {
      "cell_type": "code",
      "source": [
        "# Importing tensorflow\n",
        "import tensorflow as tf\n",
        "print(\"Tensorflow we're using: \", tf.__version__)"
      ],
      "metadata": {
        "colab": {
          "base_uri": "https://localhost:8080/"
        },
        "id": "iu9iz2poEISA",
        "outputId": "8a5f69c1-04cb-43eb-fb7c-f8d995f1b62b"
      },
      "execution_count": 1,
      "outputs": [
        {
          "output_type": "stream",
          "name": "stdout",
          "text": [
            "Tensorflow we're using:  2.18.0\n"
          ]
        }
      ]
    },
    {
      "cell_type": "code",
      "source": [
        "# Creating a random tensor\n",
        "import numpy as np\n",
        "tf.random.set_seed(42)  # for reproducability\n",
        "tensor = np.random.randint(100, 15000 , size=100)\n",
        "tensor"
      ],
      "metadata": {
        "colab": {
          "base_uri": "https://localhost:8080/"
        },
        "id": "jAdNi42VEiKV",
        "outputId": "0deff210-06cd-4007-eee2-20bae390cb1b"
      },
      "execution_count": 9,
      "outputs": [
        {
          "output_type": "execute_result",
          "data": {
            "text/plain": [
              "array([ 8370,  6782,   345,  8671,  1994, 12185,  9763, 14267,  2347,\n",
              "        7104, 14248,  1107,  4159,  2331,  5560,  2818, 11860,  5919,\n",
              "        3762,  9660,  4001, 13920,  8376, 10777, 12740, 13026, 13599,\n",
              "       10007,  6467, 14425, 11297,  8142, 12305,   249, 10816, 13791,\n",
              "        5050,  3325,  2724,  4415, 11299, 12526, 13723, 14193,  6431,\n",
              "       10685, 12528, 10908,  9776,  7781, 10616,  2208,   290,  4624,\n",
              "        3476, 14208,  5722,  3873,   124, 12151,  2413, 14554,  9168,\n",
              "        8951,  8194,  4787,  3569,  8127, 13726, 12734,  3604,   990,\n",
              "        5665,  9636,  1827,  5582, 11190, 14726,  9099,  4649,  5197,\n",
              "       11961, 13901,  1496,  9532,  1588, 10963, 14944,   200,  9582,\n",
              "        5236,  8026,  5513,  7334,  7948,  5991,  4796,   259,  8166,\n",
              "        9148])"
            ]
          },
          "metadata": {},
          "execution_count": 9
        }
      ]
    },
    {
      "cell_type": "markdown",
      "source": [
        "### Positional maximum"
      ],
      "metadata": {
        "id": "NI3rVFRQFAHS"
      }
    },
    {
      "cell_type": "code",
      "source": [
        "# Finding the positional maximum (the index where maximum value exists)\n",
        "tf.argmax(tensor)"
      ],
      "metadata": {
        "colab": {
          "base_uri": "https://localhost:8080/"
        },
        "id": "t5sSpr8lFvDk",
        "outputId": "541d88d1-7084-4412-a80b-28a1320210ac"
      },
      "execution_count": 10,
      "outputs": [
        {
          "output_type": "execute_result",
          "data": {
            "text/plain": [
              "<tf.Tensor: shape=(), dtype=int64, numpy=87>"
            ]
          },
          "metadata": {},
          "execution_count": 10
        }
      ]
    },
    {
      "cell_type": "code",
      "source": [
        "# Finding out what value exists at positional maximum\n",
        "tensor[tf.argmax(tensor)]"
      ],
      "metadata": {
        "colab": {
          "base_uri": "https://localhost:8080/"
        },
        "id": "W9kgteZGF34I",
        "outputId": "7980ed91-c586-4dc0-ef33-e2a105d8e355"
      },
      "execution_count": 11,
      "outputs": [
        {
          "output_type": "execute_result",
          "data": {
            "text/plain": [
              "np.int64(14944)"
            ]
          },
          "metadata": {},
          "execution_count": 11
        }
      ]
    },
    {
      "cell_type": "code",
      "source": [
        "# Also checking from the max function\n",
        "tf.reduce_max(tensor)"
      ],
      "metadata": {
        "colab": {
          "base_uri": "https://localhost:8080/"
        },
        "id": "ZWxEwcSvF-fO",
        "outputId": "efdd2694-6dd7-49e0-b280-61564a029ab2"
      },
      "execution_count": 12,
      "outputs": [
        {
          "output_type": "execute_result",
          "data": {
            "text/plain": [
              "<tf.Tensor: shape=(), dtype=int64, numpy=14944>"
            ]
          },
          "metadata": {},
          "execution_count": 12
        }
      ]
    },
    {
      "cell_type": "code",
      "source": [
        "# Verifying if both return the same result\n",
        "tensor[tf.argmax(tensor)] == tf.reduce_max(tensor)"
      ],
      "metadata": {
        "colab": {
          "base_uri": "https://localhost:8080/"
        },
        "id": "3qHutX-YGIO5",
        "outputId": "24171492-5693-4fe8-8db7-c9e8ab0b78e7"
      },
      "execution_count": 13,
      "outputs": [
        {
          "output_type": "execute_result",
          "data": {
            "text/plain": [
              "<tf.Tensor: shape=(), dtype=bool, numpy=True>"
            ]
          },
          "metadata": {},
          "execution_count": 13
        }
      ]
    },
    {
      "cell_type": "markdown",
      "source": [
        "### Positional Minimum"
      ],
      "metadata": {
        "id": "p64NXvN1GRyP"
      }
    },
    {
      "cell_type": "code",
      "source": [
        "# Finding the positional minimum (the index where minimum element exists)\n",
        "tf.argmin(tensor)"
      ],
      "metadata": {
        "colab": {
          "base_uri": "https://localhost:8080/"
        },
        "id": "-Tpi2h41GVmj",
        "outputId": "fdd6aaf2-2d0b-44c0-cdbb-eecf91b60c31"
      },
      "execution_count": 14,
      "outputs": [
        {
          "output_type": "execute_result",
          "data": {
            "text/plain": [
              "<tf.Tensor: shape=(), dtype=int64, numpy=58>"
            ]
          },
          "metadata": {},
          "execution_count": 14
        }
      ]
    },
    {
      "cell_type": "code",
      "source": [
        "# Finding out the value of positional minimum\n",
        "tensor[tf.argmin(tensor)]"
      ],
      "metadata": {
        "colab": {
          "base_uri": "https://localhost:8080/"
        },
        "id": "LDzRUVGSGfLY",
        "outputId": "52aa1de4-5840-468d-c9e4-5bf1ab3d2911"
      },
      "execution_count": 15,
      "outputs": [
        {
          "output_type": "execute_result",
          "data": {
            "text/plain": [
              "np.int64(124)"
            ]
          },
          "metadata": {},
          "execution_count": 15
        }
      ]
    },
    {
      "cell_type": "code",
      "source": [
        "# Also checking from the min function\n",
        "tf.reduce_min(tensor)"
      ],
      "metadata": {
        "colab": {
          "base_uri": "https://localhost:8080/"
        },
        "id": "_A61DhycGl-p",
        "outputId": "455e37e5-9f1c-4a27-f2d8-a0ad23a84e51"
      },
      "execution_count": 16,
      "outputs": [
        {
          "output_type": "execute_result",
          "data": {
            "text/plain": [
              "<tf.Tensor: shape=(), dtype=int64, numpy=124>"
            ]
          },
          "metadata": {},
          "execution_count": 16
        }
      ]
    },
    {
      "cell_type": "code",
      "source": [
        "# Verifying if both return the same result\n",
        "tensor[tf.argmin(tensor)] == tf.reduce_min(tensor)"
      ],
      "metadata": {
        "colab": {
          "base_uri": "https://localhost:8080/"
        },
        "id": "A00LbQb5GtHO",
        "outputId": "6661522e-e82c-4eff-89e6-ea14e4692221"
      },
      "execution_count": 18,
      "outputs": [
        {
          "output_type": "execute_result",
          "data": {
            "text/plain": [
              "<tf.Tensor: shape=(), dtype=bool, numpy=True>"
            ]
          },
          "metadata": {},
          "execution_count": 18
        }
      ]
    },
    {
      "cell_type": "code",
      "source": [],
      "metadata": {
        "id": "OB5L_Dg4G1el"
      },
      "execution_count": null,
      "outputs": []
    }
  ]
}
