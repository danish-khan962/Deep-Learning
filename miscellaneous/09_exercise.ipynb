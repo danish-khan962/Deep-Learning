{
  "nbformat": 4,
  "nbformat_minor": 0,
  "metadata": {
    "colab": {
      "provenance": [],
      "authorship_tag": "ABX9TyNDeWRie17HsZ4Qtw6X4rqB",
      "include_colab_link": true
    },
    "kernelspec": {
      "name": "python3",
      "display_name": "Python 3"
    },
    "language_info": {
      "name": "python"
    }
  },
  "cells": [
    {
      "cell_type": "markdown",
      "metadata": {
        "id": "view-in-github",
        "colab_type": "text"
      },
      "source": [
        "<a href=\"https://colab.research.google.com/github/danish-khan962/Deep-Learning/blob/main/miscellaneous/09_exercise.ipynb\" target=\"_parent\"><img src=\"https://colab.research.google.com/assets/colab-badge.svg\" alt=\"Open In Colab\"/></a>"
      ]
    },
    {
      "cell_type": "markdown",
      "source": [
        "# **EXERCISE 9**\n",
        "\n",
        "Fulfill the following tasks in this exercise:\n",
        "\n",
        "1. Create neural network model in many stages, *i.e.* from basic to improved model.\n",
        "2. Try to visualize things as many as you can.\n",
        "3. Evaluate performance metrics such as MAE and MSE.\n",
        "4. Compare all models you built and gain insight which model performs best.\n",
        "\n",
        "\n",
        "> Try to make helper/utility functions, which you think you may need them again in near future."
      ],
      "metadata": {
        "id": "2n-B5vlZYUSs"
      }
    },
    {
      "cell_type": "code",
      "source": [
        "# Importing tensorflow\n",
        "import tensorflow as tf\n",
        "print(\"Tensorflow version we're using: \", tf.__version__)"
      ],
      "metadata": {
        "colab": {
          "base_uri": "https://localhost:8080/"
        },
        "id": "BS0Gz8r8ZYpg",
        "outputId": "3137f7ba-ad3e-4135-b1cc-d24723699342"
      },
      "execution_count": 1,
      "outputs": [
        {
          "output_type": "stream",
          "name": "stdout",
          "text": [
            "Tensorflow version we're using:  2.18.0\n"
          ]
        }
      ]
    },
    {
      "cell_type": "code",
      "source": [
        "# Importing other dependencies\n",
        "import numpy as np\n",
        "import matplotlib.pyplot as plt"
      ],
      "metadata": {
        "id": "RV2E1OFoZp7_"
      },
      "execution_count": 2,
      "outputs": []
    },
    {
      "cell_type": "markdown",
      "source": [
        "### Creating Features and Labels tensors"
      ],
      "metadata": {
        "id": "GWOjGTi4Z0s3"
      }
    },
    {
      "cell_type": "code",
      "source": [
        "# Creating features\n",
        "X = tf.range(-30,50, 3) # from -30 to +50 with a step of 3\n",
        "X"
      ],
      "metadata": {
        "colab": {
          "base_uri": "https://localhost:8080/"
        },
        "id": "urqD9fDbZ7OD",
        "outputId": "5ba3621c-5216-4d33-db85-74658299f19b"
      },
      "execution_count": 3,
      "outputs": [
        {
          "output_type": "execute_result",
          "data": {
            "text/plain": [
              "<tf.Tensor: shape=(27,), dtype=int32, numpy=\n",
              "array([-30, -27, -24, -21, -18, -15, -12,  -9,  -6,  -3,   0,   3,   6,\n",
              "         9,  12,  15,  18,  21,  24,  27,  30,  33,  36,  39,  42,  45,\n",
              "        48], dtype=int32)>"
            ]
          },
          "metadata": {},
          "execution_count": 3
        }
      ]
    },
    {
      "cell_type": "code",
      "source": [
        "# Creating labels\n",
        "y = X + 5\n",
        "y"
      ],
      "metadata": {
        "colab": {
          "base_uri": "https://localhost:8080/"
        },
        "id": "xCQFhipNaKGg",
        "outputId": "0a24198e-4ce6-4b8e-b1ba-7ec34f159c29"
      },
      "execution_count": 4,
      "outputs": [
        {
          "output_type": "execute_result",
          "data": {
            "text/plain": [
              "<tf.Tensor: shape=(27,), dtype=int32, numpy=\n",
              "array([-25, -22, -19, -16, -13, -10,  -7,  -4,  -1,   2,   5,   8,  11,\n",
              "        14,  17,  20,  23,  26,  29,  32,  35,  38,  41,  44,  47,  50,\n",
              "        53], dtype=int32)>"
            ]
          },
          "metadata": {},
          "execution_count": 4
        }
      ]
    },
    {
      "cell_type": "code",
      "source": [
        "# Coverting int tensors into float tensors\n",
        "X = tf.cast(X, dtype=tf.float32)\n",
        "y = tf.cast(y, dtype=tf.float32)"
      ],
      "metadata": {
        "id": "S7iuje_mjTq7"
      },
      "execution_count": 27,
      "outputs": []
    },
    {
      "cell_type": "code",
      "source": [
        "# Visualizing feature and labels tensors\n",
        "plt.figure(figsize=(6,5))\n",
        "plt.scatter(X, y, label=\"X and y tensors\")\n",
        "plt.legend()"
      ],
      "metadata": {
        "colab": {
          "base_uri": "https://localhost:8080/",
          "height": 462
        },
        "id": "XU54-mieaddA",
        "outputId": "42a2d293-6a16-43c9-b45e-9d427ddaa8a4"
      },
      "execution_count": 28,
      "outputs": [
        {
          "output_type": "execute_result",
          "data": {
            "text/plain": [
              "<matplotlib.legend.Legend at 0x7846c9617b50>"
            ]
          },
          "metadata": {},
          "execution_count": 28
        },
        {
          "output_type": "display_data",
          "data": {
            "text/plain": [
              "<Figure size 600x500 with 1 Axes>"
            ],
            "image/png": "[encoded data removed]"
          },
          "metadata": {}
        }
      ]
    },
    {
      "cell_type": "markdown",
      "source": [
        "### Splitting into training and testing sets"
      ],
      "metadata": {
        "id": "bGDD3BiUbxCm"
      }
    },
    {
      "cell_type": "code",
      "source": [
        "# First let's check if both features and labels are equal in length or not\n",
        "len(X) == len(y)"
      ],
      "metadata": {
        "colab": {
          "base_uri": "https://localhost:8080/"
        },
        "id": "NNoeNLzdb_25",
        "outputId": "02f3897f-c377-4144-e62e-6d2f4f4af1e4"
      },
      "execution_count": 29,
      "outputs": [
        {
          "output_type": "execute_result",
          "data": {
            "text/plain": [
              "True"
            ]
          },
          "metadata": {},
          "execution_count": 29
        }
      ]
    },
    {
      "cell_type": "code",
      "source": [
        "# Checking features length so we can split\n",
        "len(X)"
      ],
      "metadata": {
        "colab": {
          "base_uri": "https://localhost:8080/"
        },
        "id": "CHV6o3TIcGeF",
        "outputId": "5f66361b-6210-4e26-c08b-dfbe80dd03e5"
      },
      "execution_count": 30,
      "outputs": [
        {
          "output_type": "execute_result",
          "data": {
            "text/plain": [
              "27"
            ]
          },
          "metadata": {},
          "execution_count": 30
        }
      ]
    },
    {
      "cell_type": "code",
      "source": [
        "# Splitting into training tensor sets\n",
        "X_train = X[:18]  # giving 0 to 18 samples out of 27 for training\n",
        "y_train = y[:18]  # ,,\n",
        "\n",
        "\n",
        "# Splitting into testing tensor sets\n",
        "X_test = X[18:]   # giving remaining samples after 18\n",
        "y_test = y[18:]  # ,,"
      ],
      "metadata": {
        "id": "YkaEQ5_tcl9G"
      },
      "execution_count": 31,
      "outputs": []
    },
    {
      "cell_type": "code",
      "source": [
        "print(\"Length of X_train: \", len(X_train))\n",
        "print(\"Length of X_test: \", len(X_test))\n",
        "\n",
        "print(\"Length of y_train: \", len(y_train))\n",
        "print(\"Length of y_test: \", len(y_test))"
      ],
      "metadata": {
        "colab": {
          "base_uri": "https://localhost:8080/"
        },
        "id": "rrMd7sIAdDCI",
        "outputId": "919233c7-fa14-49c3-ec8a-4d3f62bcdc6d"
      },
      "execution_count": 32,
      "outputs": [
        {
          "output_type": "stream",
          "name": "stdout",
          "text": [
            "Length of X_train:  18\n",
            "Length of X_test:  9\n",
            "Length of y_train:  18\n",
            "Length of y_test:  9\n"
          ]
        }
      ]
    },
    {
      "cell_type": "code",
      "source": [
        "# Visualizing our training and testing tensor sets\n",
        "plt.figure(figsize=(6,4))\n",
        "\n",
        "# Plotting training tensor sets\n",
        "plt.scatter(X_train, y_train, c=\"magenta\", label=\"Training tensors\")\n",
        "\n",
        "# Plotting testing tensor sets\n",
        "plt.scatter(X_test, y_test, c=\"indigo\", label=\"Testing tensors\")\n",
        "\n",
        "# Plotting legend\n",
        "plt.legend()"
      ],
      "metadata": {
        "colab": {
          "base_uri": "https://localhost:8080/",
          "height": 385
        },
        "id": "Aq2CpSkudZBQ",
        "outputId": "38d79416-6ebd-4381-8cb2-9fe6ce767c2e"
      },
      "execution_count": 33,
      "outputs": [
        {
          "output_type": "execute_result",
          "data": {
            "text/plain": [
              "<matplotlib.legend.Legend at 0x7846c90d1290>"
            ]
          },
          "metadata": {},
          "execution_count": 33
        },
        {
          "output_type": "display_data",
          "data": {
            "text/plain": [
              "<Figure size 600x400 with 1 Axes>"
            ],
            "image/png": "[encoded data removed]"
          },
          "metadata": {}
        }
      ]
    },
    {
      "cell_type": "markdown",
      "source": [
        "### Making basic model"
      ],
      "metadata": {
        "id": "f1RC9UFTiLk-"
      }
    },
    {
      "cell_type": "code",
      "source": [
        "tf.random.set_seed(42) # random seed for reproducability\n",
        "\n",
        "# 1. Create a model\n",
        "model = tf.keras.models.Sequential([\n",
        "    tf.keras.layers.Dense(1)\n",
        "])\n",
        "\n",
        "# 2. Compiling the model\n",
        "model.compile(loss = tf.keras.losses.mae,\n",
        "              optimizer = tf.keras.optimizers.SGD(),\n",
        "              metrics=[\"mae\"])\n",
        "\n",
        "# 3. Fitting the model\n",
        "model.fit(tf.expand_dims(X_train, axis=-1), y_train, epochs=5)"
      ],
      "metadata": {
        "colab": {
          "base_uri": "https://localhost:8080/"
        },
        "id": "WTeg83hhiQ8z",
        "outputId": "f8005e46-89ea-4ba3-ac53-a6c9c03088e5"
      },
      "execution_count": 34,
      "outputs": [
        {
          "output_type": "stream",
          "name": "stdout",
          "text": [
            "Epoch 1/5\n",
            "\u001b[1m1/1\u001b[0m \u001b[32m━━━━━━━━━━━━━━━━━━━━\u001b[0m\u001b[37m\u001b[0m \u001b[1m1s\u001b[0m 613ms/step - loss: 6.5737 - mae: 6.5737\n",
            "Epoch 2/5\n",
            "\u001b[1m1/1\u001b[0m \u001b[32m━━━━━━━━━━━━━━━━━━━━\u001b[0m\u001b[37m\u001b[0m \u001b[1m0s\u001b[0m 59ms/step - loss: 5.9625 - mae: 5.9625\n",
            "Epoch 3/5\n",
            "\u001b[1m1/1\u001b[0m \u001b[32m━━━━━━━━━━━━━━━━━━━━\u001b[0m\u001b[37m\u001b[0m \u001b[1m0s\u001b[0m 62ms/step - loss: 5.7500 - mae: 5.7500\n",
            "Epoch 4/5\n",
            "\u001b[1m1/1\u001b[0m \u001b[32m━━━━━━━━━━━━━━━━━━━━\u001b[0m\u001b[37m\u001b[0m \u001b[1m0s\u001b[0m 69ms/step - loss: 5.5375 - mae: 5.5375\n",
            "Epoch 5/5\n",
            "\u001b[1m1/1\u001b[0m \u001b[32m━━━━━━━━━━━━━━━━━━━━\u001b[0m\u001b[37m\u001b[0m \u001b[1m0s\u001b[0m 135ms/step - loss: 5.3250 - mae: 5.3250\n"
          ]
        },
        {
          "output_type": "execute_result",
          "data": {
            "text/plain": [
              "<keras.src.callbacks.history.History at 0x7846c8ed7fd0>"
            ]
          },
          "metadata": {},
          "execution_count": 34
        }
      ]
    },
    {
      "cell_type": "code",
      "source": [
        "# Making predictions\n",
        "y_pred = model.predict(X_test)\n",
        "y_pred"
      ],
      "metadata": {
        "colab": {
          "base_uri": "https://localhost:8080/"
        },
        "id": "T9kyqtrOi_he",
        "outputId": "009489c3-d06b-49e6-f5cf-177dfe174d81"
      },
      "execution_count": 35,
      "outputs": [
        {
          "output_type": "stream",
          "name": "stdout",
          "text": [
            "\u001b[1m1/1\u001b[0m \u001b[32m━━━━━━━━━━━━━━━━━━━━\u001b[0m\u001b[37m\u001b[0m \u001b[1m0s\u001b[0m 73ms/step\n"
          ]
        },
        {
          "output_type": "execute_result",
          "data": {
            "text/plain": [
              "array([[24.902357],\n",
              "       [28.009178],\n",
              "       [31.116001],\n",
              "       [34.222824],\n",
              "       [37.329647],\n",
              "       [40.43647 ],\n",
              "       [43.543293],\n",
              "       [46.650116],\n",
              "       [49.75694 ]], dtype=float32)"
            ]
          },
          "metadata": {},
          "execution_count": 35
        }
      ]
    },
    {
      "cell_type": "code",
      "source": [
        "# Let's see how much it is aligning with testing labels\n",
        "y_test"
      ],
      "metadata": {
        "colab": {
          "base_uri": "https://localhost:8080/"
        },
        "id": "Y6V4GxZNjKL_",
        "outputId": "4b6aba7c-205d-477f-a9fe-ba5c7afb177b"
      },
      "execution_count": 36,
      "outputs": [
        {
          "output_type": "execute_result",
          "data": {
            "text/plain": [
              "<tf.Tensor: shape=(9,), dtype=float32, numpy=array([29., 32., 35., 38., 41., 44., 47., 50., 53.], dtype=float32)>"
            ]
          },
          "metadata": {},
          "execution_count": 36
        }
      ]
    },
    {
      "cell_type": "code",
      "source": [
        "# Let's visualize the predictions\n",
        "plt.figure(figsize=(6,5))\n",
        "plt.scatter(X_train, y_train, color=\"magenta\", label=\"Training tensors\")\n",
        "\n",
        "plt.scatter(X_test, y_test, color=\"indigo\", label=\"Testing tensors\")\n",
        "\n",
        "plt.scatter(X_test, y_pred, color=\"green\", label=\"Predicted tensors\")\n",
        "\n",
        "plt.legend()"
      ],
      "metadata": {
        "colab": {
          "base_uri": "https://localhost:8080/",
          "height": 462
        },
        "id": "vWmb6RkpjoMc",
        "outputId": "b1418fe0-e09c-42d4-f344-b7b34e6d473a"
      },
      "execution_count": 38,
      "outputs": [
        {
          "output_type": "execute_result",
          "data": {
            "text/plain": [
              "<matplotlib.legend.Legend at 0x7846c8f32010>"
            ]
          },
          "metadata": {},
          "execution_count": 38
        },
        {
          "output_type": "display_data",
          "data": {
            "text/plain": [
              "<Figure size 600x500 with 1 Axes>"
            ],
            "image/png": "[encoded data removed]"
          },
          "metadata": {}
        }
      ]
    },
    {
      "cell_type": "markdown",
      "source": [
        "Woah!! Looking close , why not we calculate it metrics"
      ],
      "metadata": {
        "id": "tp2DHT2RkYpL"
      }
    },
    {
      "cell_type": "markdown",
      "source": [
        "#### Calculating MAE and MSE metrics scores"
      ],
      "metadata": {
        "id": "PfYJ7AeikeEb"
      }
    },
    {
      "cell_type": "code",
      "source": [
        "mae = tf.metrics.MeanAbsoluteError()(y_true=y_test,\n",
        "                                     y_pred=tf.squeeze(y_pred)).numpy()  # squeezing y_pred to match y_test shape\n",
        "mae"
      ],
      "metadata": {
        "colab": {
          "base_uri": "https://localhost:8080/"
        },
        "id": "6uBjALzBkjTt",
        "outputId": "fad3ecf3-8913-4d43-f7f0-347d39d6b006"
      },
      "execution_count": 43,
      "outputs": [
        {
          "output_type": "execute_result",
          "data": {
            "text/plain": [
              "np.float32(3.6703525)"
            ]
          },
          "metadata": {},
          "execution_count": 43
        }
      ]
    },
    {
      "cell_type": "code",
      "source": [
        "mse = tf.metrics.MeanSquaredError()(y_true = y_test,\n",
        "                                    y_pred = tf.squeeze(y_pred)).numpy()\n",
        "mse"
      ],
      "metadata": {
        "colab": {
          "base_uri": "https://localhost:8080/"
        },
        "id": "b8MWb58pk2c3",
        "outputId": "7a62c699-5aff-455f-d534-a04991d5e50f"
      },
      "execution_count": 44,
      "outputs": [
        {
          "output_type": "execute_result",
          "data": {
            "text/plain": [
              "np.float32(13.547564)"
            ]
          },
          "metadata": {},
          "execution_count": 44
        }
      ]
    },
    {
      "cell_type": "markdown",
      "source": [
        "Now we gonna use this methodology:\n",
        "```\n",
        "* Building a model\n",
        "* Make predictions\n",
        "* Visualize it\n",
        "* Calculate metrics\n",
        "```\n",
        "\n",
        "If we're gonna such much things now, it's better idea to create some helper functions or utility functions so that we don't have to write code again and again for the same functionality."
      ],
      "metadata": {
        "id": "7cAtn1CweFmt"
      }
    },
    {
      "cell_type": "markdown",
      "source": [
        "### Creating some helper/utility functions"
      ],
      "metadata": {
        "id": "2AnagnnWe_S3"
      }
    },
    {
      "cell_type": "markdown",
      "source": [
        "`Function for plotting predictions`"
      ],
      "metadata": {
        "id": "q-liCASofGtr"
      }
    },
    {
      "cell_type": "code",
      "source": [
        "def plot_predictions(train_data = X_train,\n",
        "                 test_data = X_test,\n",
        "                 train_label = y_train,\n",
        "                 test_label = y_test,\n",
        "                 predictions = y_pred):\n",
        "\n",
        "  plt.figure(figsize=(6,5))\n",
        "\n",
        "  plt.scatter(train_data, train_label, color=\"magenta\", label=\"Training tensors\")\n",
        "  plt.scatter(test_data, test_label, color=\"indigo\", label=\"Testing tensors\")\n",
        "  plt.scatter(test_data, predictions, color=\"green\", label=\"Predicted tensors\")\n",
        "\n",
        "  plt.legend()"
      ],
      "metadata": {
        "id": "4h6Uit34iFTJ"
      },
      "execution_count": 45,
      "outputs": []
    },
    {
      "cell_type": "markdown",
      "source": [
        "`Function for calculating MAE and MSE`"
      ],
      "metadata": {
        "id": "-Cl8x-kXo_Xt"
      }
    },
    {
      "cell_type": "code",
      "source": [
        "def mae(y_true=y_test, y_pred=y_pred):\n",
        "  tf.metrics.MeanAbsoluteError()(y_true, tf.squeeze(y_pred))\n",
        "\n",
        "def mse(y_true=y_test, y_pred=y_pred):\n",
        "  tf.metrics.MeanSquaredError()(y_true, tf.squeeze(y_pred))"
      ],
      "metadata": {
        "id": "bFHZ2kyvpJZZ"
      },
      "execution_count": 48,
      "outputs": []
    },
    {
      "cell_type": "code",
      "source": [],
      "metadata": {
        "id": "J9oiPfRzpaZJ"
      },
      "execution_count": null,
      "outputs": []
    }
  ]
}