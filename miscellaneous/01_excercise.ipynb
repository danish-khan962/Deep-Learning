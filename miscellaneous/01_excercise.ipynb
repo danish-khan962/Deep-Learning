{
  "nbformat": 4,
  "nbformat_minor": 0,
  "metadata": {
    "colab": {
      "provenance": [],
      "authorship_tag": "ABX9TyPCwJma4JvNivQib6JUbAOf",
      "include_colab_link": true
    },
    "kernelspec": {
      "name": "python3",
      "display_name": "Python 3"
    },
    "language_info": {
      "name": "python"
    }
  },
  "cells": [
    {
      "cell_type": "markdown",
      "metadata": {
        "id": "view-in-github",
        "colab_type": "text"
      },
      "source": [
        "<a href=\"https://colab.research.google.com/github/danish-khan962/Deep-Learning/blob/main/miscellaneous/01_excercise.ipynb\" target=\"_parent\"><img src=\"https://colab.research.google.com/assets/colab-badge.svg\" alt=\"Open In Colab\"/></a>"
      ]
    },
    {
      "cell_type": "markdown",
      "source": [
        "# **EXCERCISE 01**\n",
        "\n",
        "###### Read through the documentation on random seed generation:\n",
        "###### https://www.tensorflow.org/api_docs/python/tf/random/set_seed and practice writing 5 random tensors and shuffle them"
      ],
      "metadata": {
        "id": "YN4O_PDDsGkS"
      }
    },
    {
      "cell_type": "code",
      "source": [
        "# Importing Tensorflow\n",
        "import tensorflow as tf\n",
        "print(\"Tensorflow version we're using: \", tf.__version__)"
      ],
      "metadata": {
        "colab": {
          "base_uri": "https://localhost:8080/"
        },
        "id": "bdSl3FbSs3Gf",
        "outputId": "38f76f02-02fb-4c36-8d82-37af913609a1"
      },
      "execution_count": null,
      "outputs": [
        {
          "output_type": "stream",
          "name": "stdout",
          "text": [
            "Tensorflow version we're using:  2.18.0\n"
          ]
        }
      ]
    },
    {
      "cell_type": "markdown",
      "source": [
        "### Creating random tensors"
      ],
      "metadata": {
        "id": "-C6zwdnqwzIH"
      }
    },
    {
      "cell_type": "code",
      "source": [
        "# Creating 5 random tensors\n",
        "randomTensor_1 = tf.random.Generator.from_seed(45) #setting seed for reproducability\n",
        "randomTensor_1 = randomTensor_1.normal(shape=(3,3))\n",
        "\n",
        "randomTensor_2 = tf.random.Generator.from_seed(42)\n",
        "randomTensor_2 = randomTensor_2.normal(shape=(3,3))\n",
        "\n",
        "randomTensor_3 = tf.random.Generator.from_seed(45)\n",
        "randomTensor_3 = randomTensor_3.normal(shape=(3,3))\n",
        "\n",
        "randomTensor_4 = tf.random.Generator.from_seed(42)\n",
        "randomTensor_4 = randomTensor_4.normal(shape=(3,3))\n",
        "\n",
        "randomTensor_5 = tf.random.Generator.from_seed(45)\n",
        "randomTensor_5 = randomTensor_5.normal(shape=(3,3))"
      ],
      "metadata": {
        "id": "FvyEp6vvtEww"
      },
      "execution_count": null,
      "outputs": []
    },
    {
      "cell_type": "code",
      "source": [
        "# Checking how our random tensors looks like\n",
        "randomTensor_1 , randomTensor_2 , randomTensor_3 , randomTensor_4 , randomTensor_5"
      ],
      "metadata": {
        "colab": {
          "base_uri": "https://localhost:8080/"
        },
        "id": "AYRVYYazuCJg",
        "outputId": "c8177683-ae56-416b-ccc2-2a3f80fd4535"
      },
      "execution_count": null,
      "outputs": [
        {
          "output_type": "execute_result",
          "data": {
            "text/plain": [
              "(<tf.Tensor: shape=(3, 3), dtype=float32, numpy=\n",
              " array([[-0.3522796 ,  0.40621263, -1.0523509 ],\n",
              "        [ 1.2054597 ,  1.6874489 , -0.4462975 ],\n",
              "        [-2.3410842 ,  0.99009085, -0.0876323 ]], dtype=float32)>,\n",
              " <tf.Tensor: shape=(3, 3), dtype=float32, numpy=\n",
              " array([[-0.7565803 , -0.06854702,  0.07595026],\n",
              "        [-1.2573844 , -0.23193763, -1.8107855 ],\n",
              "        [ 0.09988727, -0.50998646, -0.7535805 ]], dtype=float32)>,\n",
              " <tf.Tensor: shape=(3, 3), dtype=float32, numpy=\n",
              " array([[-0.3522796 ,  0.40621263, -1.0523509 ],\n",
              "        [ 1.2054597 ,  1.6874489 , -0.4462975 ],\n",
              "        [-2.3410842 ,  0.99009085, -0.0876323 ]], dtype=float32)>,\n",
              " <tf.Tensor: shape=(3, 3), dtype=float32, numpy=\n",
              " array([[-0.7565803 , -0.06854702,  0.07595026],\n",
              "        [-1.2573844 , -0.23193763, -1.8107855 ],\n",
              "        [ 0.09988727, -0.50998646, -0.7535805 ]], dtype=float32)>,\n",
              " <tf.Tensor: shape=(3, 3), dtype=float32, numpy=\n",
              " array([[-0.3522796 ,  0.40621263, -1.0523509 ],\n",
              "        [ 1.2054597 ,  1.6874489 , -0.4462975 ],\n",
              "        [-2.3410842 ,  0.99009085, -0.0876323 ]], dtype=float32)>)"
            ]
          },
          "metadata": {},
          "execution_count": 5
        }
      ]
    },
    {
      "cell_type": "markdown",
      "source": [
        "### Shuffling a random tensor"
      ],
      "metadata": {
        "id": "0sA4ELLgwn1Y"
      }
    },
    {
      "cell_type": "code",
      "source": [
        "# Let's again create a random tensor for shuffling\n",
        "\n",
        "non_shuffledTensor = tf.random.Generator.from_seed(30)\n",
        "non_shuffledTensor = non_shuffledTensor.normal(shape=(5,2))"
      ],
      "metadata": {
        "id": "oyMpT-C7w8mZ"
      },
      "execution_count": null,
      "outputs": []
    },
    {
      "cell_type": "code",
      "source": [
        "non_shuffledTensor"
      ],
      "metadata": {
        "colab": {
          "base_uri": "https://localhost:8080/"
        },
        "id": "h-tOtjy9xTo4",
        "outputId": "1a089248-a355-484a-f159-0975084a7daa"
      },
      "execution_count": null,
      "outputs": [
        {
          "output_type": "execute_result",
          "data": {
            "text/plain": [
              "<tf.Tensor: shape=(5, 2), dtype=float32, numpy=\n",
              "array([[ 0.8357487 ,  0.20849545],\n",
              "       [ 1.4040174 , -2.735283  ],\n",
              "       [ 1.2232229 , -1.8653691 ],\n",
              "       [ 0.00511209, -1.0493753 ],\n",
              "       [ 0.7901182 ,  1.585549  ]], dtype=float32)>"
            ]
          },
          "metadata": {},
          "execution_count": 11
        }
      ]
    },
    {
      "cell_type": "markdown",
      "source": [
        "It looks like if we want our shuffled tensors to be in the same order, we've got to use the global level random seed as well as the operational level random seed:\n",
        "\n",
        "> `Rule 4`: If both the global and the operatinal seed are set: Both seeds are used in conjunction to determine the random sequence"
      ],
      "metadata": {
        "id": "JYuf-FjVy3U3"
      }
    },
    {
      "cell_type": "code",
      "source": [
        "# Now shuffling the non_shuffledTensor\n",
        "tf.random.set_seed(42)  #this is global random seed\n",
        "tf.random.shuffle(non_shuffledTensor, seed=(42))  #this is operational random seed"
      ],
      "metadata": {
        "colab": {
          "base_uri": "https://localhost:8080/"
        },
        "id": "ZWtAz99SxU5e",
        "outputId": "8d6c1994-2ac3-49c9-c444-e13c8814cbb6"
      },
      "execution_count": null,
      "outputs": [
        {
          "output_type": "execute_result",
          "data": {
            "text/plain": [
              "<tf.Tensor: shape=(5, 2), dtype=float32, numpy=\n",
              "array([[ 0.00511209, -1.0493753 ],\n",
              "       [ 0.8357487 ,  0.20849545],\n",
              "       [ 1.4040174 , -2.735283  ],\n",
              "       [ 1.2232229 , -1.8653691 ],\n",
              "       [ 0.7901182 ,  1.585549  ]], dtype=float32)>"
            ]
          },
          "metadata": {},
          "execution_count": 19
        }
      ]
    },
    {
      "cell_type": "code",
      "source": [],
      "metadata": {
        "id": "SYq3H8nsx1w4"
      },
      "execution_count": null,
      "outputs": []
    }
  ]
}