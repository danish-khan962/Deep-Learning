{
  "nbformat": 4,
  "nbformat_minor": 0,
  "metadata": {
    "colab": {
      "provenance": [],
      "authorship_tag": "ABX9TyPeJVZZ7or6rPRf64X7cklq",
      "include_colab_link": true
    },
    "kernelspec": {
      "name": "python3",
      "display_name": "Python 3"
    },
    "language_info": {
      "name": "python"
    }
  },
  "cells": [
    {
      "cell_type": "markdown",
      "metadata": {
        "id": "view-in-github",
        "colab_type": "text"
      },
      "source": [
        "<a href=\"https://colab.research.google.com/github/danish-khan962/Deep-Learning/blob/main/miscellaneous/05_exercise.ipynb\" target=\"_parent\"><img src=\"https://colab.research.google.com/assets/colab-badge.svg\" alt=\"Open In Colab\"/></a>"
      ]
    },
    {
      "cell_type": "markdown",
      "source": [
        "# **EXERCISE 5**\n",
        "\n",
        "##### Create a python list and perform one-hot encoding with custom `on_value` and `off_values`"
      ],
      "metadata": {
        "id": "aHZpPc69uerK"
      }
    },
    {
      "cell_type": "code",
      "source": [
        "# Importing tensorflow\n",
        "import tensorflow as tf\n",
        "print(\"Tensorflow version we're using: \", tf.__version__)"
      ],
      "metadata": {
        "colab": {
          "base_uri": "https://localhost:8080/"
        },
        "id": "rypGsAghvA4f",
        "outputId": "675ffec3-68fb-475a-9be8-5b9a54ad89e6"
      },
      "execution_count": 1,
      "outputs": [
        {
          "output_type": "stream",
          "name": "stdout",
          "text": [
            "Tensorflow version we're using:  2.18.0\n"
          ]
        }
      ]
    },
    {
      "cell_type": "code",
      "source": [
        "# Creating a list\n",
        "tensor = [0,1,2,3]\n",
        "tensor"
      ],
      "metadata": {
        "colab": {
          "base_uri": "https://localhost:8080/"
        },
        "id": "fL3yQlhIvH4U",
        "outputId": "b94eb973-d3ff-4f55-e4d9-ca48a658b589"
      },
      "execution_count": 10,
      "outputs": [
        {
          "output_type": "execute_result",
          "data": {
            "text/plain": [
              "[0, 1, 2, 3]"
            ]
          },
          "metadata": {},
          "execution_count": 10
        }
      ]
    },
    {
      "cell_type": "code",
      "source": [
        "# Performing one-hot encoding\n",
        "tf.one_hot(tensor, depth=4)  # depth usually is number of elements"
      ],
      "metadata": {
        "colab": {
          "base_uri": "https://localhost:8080/"
        },
        "id": "DZ-zmbi_vXvK",
        "outputId": "fdfe69d6-b3bf-462f-9ca2-bbe423e52b0e"
      },
      "execution_count": 11,
      "outputs": [
        {
          "output_type": "execute_result",
          "data": {
            "text/plain": [
              "<tf.Tensor: shape=(4, 4), dtype=float32, numpy=\n",
              "array([[1., 0., 0., 0.],\n",
              "       [0., 1., 0., 0.],\n",
              "       [0., 0., 1., 0.],\n",
              "       [0., 0., 0., 1.]], dtype=float32)>"
            ]
          },
          "metadata": {},
          "execution_count": 11
        }
      ]
    },
    {
      "cell_type": "markdown",
      "source": [
        "### **Custom one-hot encoding**\n",
        "\n",
        "### on_value and off_value"
      ],
      "metadata": {
        "id": "bA4gqRvXvZt0"
      }
    },
    {
      "cell_type": "code",
      "source": [
        "# Custom on_value and off_value\n",
        "tf.one_hot(tensor, depth=4, on_value=\"ON\", off_value=\"OFF\")"
      ],
      "metadata": {
        "colab": {
          "base_uri": "https://localhost:8080/"
        },
        "id": "dDXlfitawT0s",
        "outputId": "04706f72-bad7-4a89-8017-31027c3f6672"
      },
      "execution_count": 12,
      "outputs": [
        {
          "output_type": "execute_result",
          "data": {
            "text/plain": [
              "<tf.Tensor: shape=(4, 4), dtype=string, numpy=\n",
              "array([[b'ON', b'OFF', b'OFF', b'OFF'],\n",
              "       [b'OFF', b'ON', b'OFF', b'OFF'],\n",
              "       [b'OFF', b'OFF', b'ON', b'OFF'],\n",
              "       [b'OFF', b'OFF', b'OFF', b'ON']], dtype=object)>"
            ]
          },
          "metadata": {},
          "execution_count": 12
        }
      ]
    },
    {
      "cell_type": "code",
      "source": [],
      "metadata": {
        "id": "sF6pU6C8wg6M"
      },
      "execution_count": null,
      "outputs": []
    }
  ]
}