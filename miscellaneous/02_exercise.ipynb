{
  "nbformat": 4,
  "nbformat_minor": 0,
  "metadata": {
    "colab": {
      "provenance": [],
      "authorship_tag": "ABX9TyMgYP3tWsuNefh7dCFq1Y0S",
      "include_colab_link": true
    },
    "kernelspec": {
      "name": "python3",
      "display_name": "Python 3"
    },
    "language_info": {
      "name": "python"
    }
  },
  "cells": [
    {
      "cell_type": "markdown",
      "metadata": {
        "id": "view-in-github",
        "colab_type": "text"
      },
      "source": [
        "<a href=\"https://colab.research.google.com/github/danish-khan962/Deep-Learning/blob/main/miscellaneous/02_exercise.ipynb\" target=\"_parent\"><img src=\"https://colab.research.google.com/assets/colab-badge.svg\" alt=\"Open In Colab\"/></a>"
      ]
    },
    {
      "cell_type": "markdown",
      "source": [
        "# **EXERCISE 2**\n",
        "### Create random tensors and gather information from tensors\n",
        "* shape\n",
        "* rank\n",
        "* axis and dimensions\n",
        "* size"
      ],
      "metadata": {
        "id": "471HqXJvIK5M"
      }
    },
    {
      "cell_type": "code",
      "source": [
        "# Importing tensorflow\n",
        "import tensorflow as tf\n",
        "print(\"Tensorflow version we're using: \", tf.__version__)"
      ],
      "metadata": {
        "colab": {
          "base_uri": "https://localhost:8080/"
        },
        "id": "PkMYpTNdInsf",
        "outputId": "591fa214-c7ca-4d1e-8f43-e23316babad8"
      },
      "execution_count": 1,
      "outputs": [
        {
          "output_type": "stream",
          "name": "stdout",
          "text": [
            "Tensorflow version we're using:  2.18.0\n"
          ]
        }
      ]
    },
    {
      "cell_type": "code",
      "source": [
        "# Creating random tensors\n",
        "tensor = tf.random.Generator.from_seed(42)\n",
        "tensor = tensor.normal(shape=(3,4))\n",
        "tensor"
      ],
      "metadata": {
        "colab": {
          "base_uri": "https://localhost:8080/"
        },
        "id": "iN0gvZqLIynk",
        "outputId": "1aba6a00-fc18-4935-a2c3-2337fc0d710d"
      },
      "execution_count": 2,
      "outputs": [
        {
          "output_type": "execute_result",
          "data": {
            "text/plain": [
              "<tf.Tensor: shape=(3, 4), dtype=float32, numpy=\n",
              "array([[-0.7565803 , -0.06854702,  0.07595026, -1.2573844 ],\n",
              "       [-0.23193763, -1.8107855 ,  0.09988727, -0.50998646],\n",
              "       [-0.7535805 , -0.57166284,  0.1480774 , -0.23362993]],\n",
              "      dtype=float32)>"
            ]
          },
          "metadata": {},
          "execution_count": 2
        }
      ]
    },
    {
      "cell_type": "code",
      "source": [
        "# Gathering information from random tensor\n",
        "print(\"Shape of the tensor is : \", tensor.shape)\n",
        "print(\"Dimensions (rank) of the tensor is: \", tensor.ndim)\n",
        "print(\"Total number of elements in tensor are: \", tf.size(tensor).numpy())"
      ],
      "metadata": {
        "colab": {
          "base_uri": "https://localhost:8080/"
        },
        "id": "Xq1lJTolJO4Q",
        "outputId": "c18d6530-1177-4e2b-d66d-407152d2dc31"
      },
      "execution_count": 6,
      "outputs": [
        {
          "output_type": "stream",
          "name": "stdout",
          "text": [
            "Shape of the tensor is :  (3, 4)\n",
            "Dimensions (rank) of the tensor is:  2\n",
            "Total number of elements in tensor are:  12\n"
          ]
        }
      ]
    },
    {
      "cell_type": "code",
      "source": [
        "print(\"Element along axis 0: \", tensor.shape[0])\n",
        "print(\"Element along axis from last: \", tensor.shape[-1])"
      ],
      "metadata": {
        "colab": {
          "base_uri": "https://localhost:8080/"
        },
        "id": "7t1TxxsZJn7a",
        "outputId": "7e0dd7e8-b862-4bb4-baca-ed5d2e027913"
      },
      "execution_count": 7,
      "outputs": [
        {
          "output_type": "stream",
          "name": "stdout",
          "text": [
            "Element along axis 0:  3\n",
            "Element along axis from last:  4\n"
          ]
        }
      ]
    },
    {
      "cell_type": "code",
      "source": [
        "3 * 4"
      ],
      "metadata": {
        "colab": {
          "base_uri": "https://localhost:8080/"
        },
        "id": "MrW-0l61KOq3",
        "outputId": "124b6632-8ac0-4ed9-9a92-b76c73e7d2e6"
      },
      "execution_count": 8,
      "outputs": [
        {
          "output_type": "execute_result",
          "data": {
            "text/plain": [
              "12"
            ]
          },
          "metadata": {},
          "execution_count": 8
        }
      ]
    },
    {
      "cell_type": "code",
      "source": [
        "# Getting first three elements of each dimension\n",
        "tensor[:3, :3]"
      ],
      "metadata": {
        "colab": {
          "base_uri": "https://localhost:8080/"
        },
        "id": "SCv3oSETKTzo",
        "outputId": "054b0532-0b4f-45cd-cecb-f0479b719b0c"
      },
      "execution_count": 9,
      "outputs": [
        {
          "output_type": "execute_result",
          "data": {
            "text/plain": [
              "<tf.Tensor: shape=(3, 3), dtype=float32, numpy=\n",
              "array([[-0.7565803 , -0.06854702,  0.07595026],\n",
              "       [-0.23193763, -1.8107855 ,  0.09988727],\n",
              "       [-0.7535805 , -0.57166284,  0.1480774 ]], dtype=float32)>"
            ]
          },
          "metadata": {},
          "execution_count": 9
        }
      ]
    },
    {
      "cell_type": "markdown",
      "source": [
        "As we have seen above that we have 2 dimension tensor, therefore now will increase it's dimensions by two methods.\n",
        "\n",
        "> ... spread operator & tf.newaxis\n",
        "\n",
        "> tf.expand_dims(tensor_name, axis='position')"
      ],
      "metadata": {
        "id": "JpsyWBwXKiHv"
      }
    },
    {
      "cell_type": "code",
      "source": [
        "tensor.ndim"
      ],
      "metadata": {
        "colab": {
          "base_uri": "https://localhost:8080/"
        },
        "id": "NIZEJDYxK1Di",
        "outputId": "518a1e9c-450d-46e6-f193-f7957df1328e"
      },
      "execution_count": 11,
      "outputs": [
        {
          "output_type": "execute_result",
          "data": {
            "text/plain": [
              "2"
            ]
          },
          "metadata": {},
          "execution_count": 11
        }
      ]
    },
    {
      "cell_type": "code",
      "source": [
        "# Using first method ...spread operator to increase the number of dimension in tensor\n",
        "tensor_new = tensor[..., tf.newaxis]\n",
        "tensor_new"
      ],
      "metadata": {
        "colab": {
          "base_uri": "https://localhost:8080/"
        },
        "id": "5M5I8ZsVLX0g",
        "outputId": "16ce1d58-1111-4c85-aca1-6ee7dd989f9a"
      },
      "execution_count": 12,
      "outputs": [
        {
          "output_type": "execute_result",
          "data": {
            "text/plain": [
              "<tf.Tensor: shape=(3, 4, 1), dtype=float32, numpy=\n",
              "array([[[-0.7565803 ],\n",
              "        [-0.06854702],\n",
              "        [ 0.07595026],\n",
              "        [-1.2573844 ]],\n",
              "\n",
              "       [[-0.23193763],\n",
              "        [-1.8107855 ],\n",
              "        [ 0.09988727],\n",
              "        [-0.50998646]],\n",
              "\n",
              "       [[-0.7535805 ],\n",
              "        [-0.57166284],\n",
              "        [ 0.1480774 ],\n",
              "        [-0.23362993]]], dtype=float32)>"
            ]
          },
          "metadata": {},
          "execution_count": 12
        }
      ]
    },
    {
      "cell_type": "code",
      "source": [
        "tensor_new.ndim"
      ],
      "metadata": {
        "colab": {
          "base_uri": "https://localhost:8080/"
        },
        "id": "N4WUdUZgL_6U",
        "outputId": "a56ffd1e-2158-4864-9ec4-0adba5635738"
      },
      "execution_count": 13,
      "outputs": [
        {
          "output_type": "execute_result",
          "data": {
            "text/plain": [
              "3"
            ]
          },
          "metadata": {},
          "execution_count": 13
        }
      ]
    },
    {
      "cell_type": "code",
      "source": [
        "# Using second method of tf.expand_dims\n",
        "T = tf.expand_dims(tensor, axis=0)  # axis works exactly like index, 0 means start and -1 means from end\n",
        "T"
      ],
      "metadata": {
        "colab": {
          "base_uri": "https://localhost:8080/"
        },
        "id": "_cMJq4V6MB9J",
        "outputId": "0491defd-7495-4116-9b88-c3951397f99e"
      },
      "execution_count": 16,
      "outputs": [
        {
          "output_type": "execute_result",
          "data": {
            "text/plain": [
              "<tf.Tensor: shape=(1, 3, 4), dtype=float32, numpy=\n",
              "array([[[-0.7565803 , -0.06854702,  0.07595026, -1.2573844 ],\n",
              "        [-0.23193763, -1.8107855 ,  0.09988727, -0.50998646],\n",
              "        [-0.7535805 , -0.57166284,  0.1480774 , -0.23362993]]],\n",
              "      dtype=float32)>"
            ]
          },
          "metadata": {},
          "execution_count": 16
        }
      ]
    },
    {
      "cell_type": "code",
      "source": [
        "T.ndim"
      ],
      "metadata": {
        "colab": {
          "base_uri": "https://localhost:8080/"
        },
        "id": "9btjaSPvMUaK",
        "outputId": "34a69bb4-a4c9-44b3-b777-0b2334451cce"
      },
      "execution_count": 17,
      "outputs": [
        {
          "output_type": "execute_result",
          "data": {
            "text/plain": [
              "3"
            ]
          },
          "metadata": {},
          "execution_count": 17
        }
      ]
    },
    {
      "cell_type": "code",
      "source": [],
      "metadata": {
        "id": "EepHtmH3MZa5"
      },
      "execution_count": null,
      "outputs": []
    }
  ]
}